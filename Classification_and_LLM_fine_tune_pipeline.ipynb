{
  "nbformat": 4,
  "nbformat_minor": 0,
  "metadata": {
    "colab": {
      "provenance": [],
      "gpuType": "T4"
    },
    "kernelspec": {
      "name": "python3",
      "display_name": "Python 3"
    },
    "language_info": {
      "name": "python"
    },
    "accelerator": "GPU",
    "widgets": {
      "application/vnd.jupyter.widget-state+json": {
        "a00a3973028048a78425ba83f6f6b030": {
          "model_module": "@jupyter-widgets/controls",
          "model_name": "HBoxModel",
          "model_module_version": "1.5.0",
          "state": {
            "_dom_classes": [],
            "_model_module": "@jupyter-widgets/controls",
            "_model_module_version": "1.5.0",
            "_model_name": "HBoxModel",
            "_view_count": null,
            "_view_module": "@jupyter-widgets/controls",
            "_view_module_version": "1.5.0",
            "_view_name": "HBoxView",
            "box_style": "",
            "children": [
              "IPY_MODEL_c93650513f5f47798428033a89b04780",
              "IPY_MODEL_c82ba62b88464319850f79884194edeb",
              "IPY_MODEL_0c63f03448ad4d16ac59d2bd69e4db1d"
            ],
            "layout": "IPY_MODEL_9bb983f2111b479ebd5e298ea2d31cc3"
          }
        },
        "c93650513f5f47798428033a89b04780": {
          "model_module": "@jupyter-widgets/controls",
          "model_name": "HTMLModel",
          "model_module_version": "1.5.0",
          "state": {
            "_dom_classes": [],
            "_model_module": "@jupyter-widgets/controls",
            "_model_module_version": "1.5.0",
            "_model_name": "HTMLModel",
            "_view_count": null,
            "_view_module": "@jupyter-widgets/controls",
            "_view_module_version": "1.5.0",
            "_view_name": "HTMLView",
            "description": "",
            "description_tooltip": null,
            "layout": "IPY_MODEL_229bed22334547a7a3182277f2355f6f",
            "placeholder": "​",
            "style": "IPY_MODEL_6675c6ae6a204b8593f5d6bd07244516",
            "value": "Map: 100%"
          }
        },
        "c82ba62b88464319850f79884194edeb": {
          "model_module": "@jupyter-widgets/controls",
          "model_name": "FloatProgressModel",
          "model_module_version": "1.5.0",
          "state": {
            "_dom_classes": [],
            "_model_module": "@jupyter-widgets/controls",
            "_model_module_version": "1.5.0",
            "_model_name": "FloatProgressModel",
            "_view_count": null,
            "_view_module": "@jupyter-widgets/controls",
            "_view_module_version": "1.5.0",
            "_view_name": "ProgressView",
            "bar_style": "success",
            "description": "",
            "description_tooltip": null,
            "layout": "IPY_MODEL_5e53649867034d308a99ac2708323cf6",
            "max": 32,
            "min": 0,
            "orientation": "horizontal",
            "style": "IPY_MODEL_1f03687d960f4e43a9100387c3015fd4",
            "value": 32
          }
        },
        "0c63f03448ad4d16ac59d2bd69e4db1d": {
          "model_module": "@jupyter-widgets/controls",
          "model_name": "HTMLModel",
          "model_module_version": "1.5.0",
          "state": {
            "_dom_classes": [],
            "_model_module": "@jupyter-widgets/controls",
            "_model_module_version": "1.5.0",
            "_model_name": "HTMLModel",
            "_view_count": null,
            "_view_module": "@jupyter-widgets/controls",
            "_view_module_version": "1.5.0",
            "_view_name": "HTMLView",
            "description": "",
            "description_tooltip": null,
            "layout": "IPY_MODEL_c505924ed05544248307380704941395",
            "placeholder": "​",
            "style": "IPY_MODEL_fb13fb1cfb174800b08f88816895ce42",
            "value": " 32/32 [00:00&lt;00:00, 364.96 examples/s]"
          }
        },
        "9bb983f2111b479ebd5e298ea2d31cc3": {
          "model_module": "@jupyter-widgets/base",
          "model_name": "LayoutModel",
          "model_module_version": "1.2.0",
          "state": {
            "_model_module": "@jupyter-widgets/base",
            "_model_module_version": "1.2.0",
            "_model_name": "LayoutModel",
            "_view_count": null,
            "_view_module": "@jupyter-widgets/base",
            "_view_module_version": "1.2.0",
            "_view_name": "LayoutView",
            "align_content": null,
            "align_items": null,
            "align_self": null,
            "border": null,
            "bottom": null,
            "display": null,
            "flex": null,
            "flex_flow": null,
            "grid_area": null,
            "grid_auto_columns": null,
            "grid_auto_flow": null,
            "grid_auto_rows": null,
            "grid_column": null,
            "grid_gap": null,
            "grid_row": null,
            "grid_template_areas": null,
            "grid_template_columns": null,
            "grid_template_rows": null,
            "height": null,
            "justify_content": null,
            "justify_items": null,
            "left": null,
            "margin": null,
            "max_height": null,
            "max_width": null,
            "min_height": null,
            "min_width": null,
            "object_fit": null,
            "object_position": null,
            "order": null,
            "overflow": null,
            "overflow_x": null,
            "overflow_y": null,
            "padding": null,
            "right": null,
            "top": null,
            "visibility": null,
            "width": null
          }
        },
        "229bed22334547a7a3182277f2355f6f": {
          "model_module": "@jupyter-widgets/base",
          "model_name": "LayoutModel",
          "model_module_version": "1.2.0",
          "state": {
            "_model_module": "@jupyter-widgets/base",
            "_model_module_version": "1.2.0",
            "_model_name": "LayoutModel",
            "_view_count": null,
            "_view_module": "@jupyter-widgets/base",
            "_view_module_version": "1.2.0",
            "_view_name": "LayoutView",
            "align_content": null,
            "align_items": null,
            "align_self": null,
            "border": null,
            "bottom": null,
            "display": null,
            "flex": null,
            "flex_flow": null,
            "grid_area": null,
            "grid_auto_columns": null,
            "grid_auto_flow": null,
            "grid_auto_rows": null,
            "grid_column": null,
            "grid_gap": null,
            "grid_row": null,
            "grid_template_areas": null,
            "grid_template_columns": null,
            "grid_template_rows": null,
            "height": null,
            "justify_content": null,
            "justify_items": null,
            "left": null,
            "margin": null,
            "max_height": null,
            "max_width": null,
            "min_height": null,
            "min_width": null,
            "object_fit": null,
            "object_position": null,
            "order": null,
            "overflow": null,
            "overflow_x": null,
            "overflow_y": null,
            "padding": null,
            "right": null,
            "top": null,
            "visibility": null,
            "width": null
          }
        },
        "6675c6ae6a204b8593f5d6bd07244516": {
          "model_module": "@jupyter-widgets/controls",
          "model_name": "DescriptionStyleModel",
          "model_module_version": "1.5.0",
          "state": {
            "_model_module": "@jupyter-widgets/controls",
            "_model_module_version": "1.5.0",
            "_model_name": "DescriptionStyleModel",
            "_view_count": null,
            "_view_module": "@jupyter-widgets/base",
            "_view_module_version": "1.2.0",
            "_view_name": "StyleView",
            "description_width": ""
          }
        },
        "5e53649867034d308a99ac2708323cf6": {
          "model_module": "@jupyter-widgets/base",
          "model_name": "LayoutModel",
          "model_module_version": "1.2.0",
          "state": {
            "_model_module": "@jupyter-widgets/base",
            "_model_module_version": "1.2.0",
            "_model_name": "LayoutModel",
            "_view_count": null,
            "_view_module": "@jupyter-widgets/base",
            "_view_module_version": "1.2.0",
            "_view_name": "LayoutView",
            "align_content": null,
            "align_items": null,
            "align_self": null,
            "border": null,
            "bottom": null,
            "display": null,
            "flex": null,
            "flex_flow": null,
            "grid_area": null,
            "grid_auto_columns": null,
            "grid_auto_flow": null,
            "grid_auto_rows": null,
            "grid_column": null,
            "grid_gap": null,
            "grid_row": null,
            "grid_template_areas": null,
            "grid_template_columns": null,
            "grid_template_rows": null,
            "height": null,
            "justify_content": null,
            "justify_items": null,
            "left": null,
            "margin": null,
            "max_height": null,
            "max_width": null,
            "min_height": null,
            "min_width": null,
            "object_fit": null,
            "object_position": null,
            "order": null,
            "overflow": null,
            "overflow_x": null,
            "overflow_y": null,
            "padding": null,
            "right": null,
            "top": null,
            "visibility": null,
            "width": null
          }
        },
        "1f03687d960f4e43a9100387c3015fd4": {
          "model_module": "@jupyter-widgets/controls",
          "model_name": "ProgressStyleModel",
          "model_module_version": "1.5.0",
          "state": {
            "_model_module": "@jupyter-widgets/controls",
            "_model_module_version": "1.5.0",
            "_model_name": "ProgressStyleModel",
            "_view_count": null,
            "_view_module": "@jupyter-widgets/base",
            "_view_module_version": "1.2.0",
            "_view_name": "StyleView",
            "bar_color": null,
            "description_width": ""
          }
        },
        "c505924ed05544248307380704941395": {
          "model_module": "@jupyter-widgets/base",
          "model_name": "LayoutModel",
          "model_module_version": "1.2.0",
          "state": {
            "_model_module": "@jupyter-widgets/base",
            "_model_module_version": "1.2.0",
            "_model_name": "LayoutModel",
            "_view_count": null,
            "_view_module": "@jupyter-widgets/base",
            "_view_module_version": "1.2.0",
            "_view_name": "LayoutView",
            "align_content": null,
            "align_items": null,
            "align_self": null,
            "border": null,
            "bottom": null,
            "display": null,
            "flex": null,
            "flex_flow": null,
            "grid_area": null,
            "grid_auto_columns": null,
            "grid_auto_flow": null,
            "grid_auto_rows": null,
            "grid_column": null,
            "grid_gap": null,
            "grid_row": null,
            "grid_template_areas": null,
            "grid_template_columns": null,
            "grid_template_rows": null,
            "height": null,
            "justify_content": null,
            "justify_items": null,
            "left": null,
            "margin": null,
            "max_height": null,
            "max_width": null,
            "min_height": null,
            "min_width": null,
            "object_fit": null,
            "object_position": null,
            "order": null,
            "overflow": null,
            "overflow_x": null,
            "overflow_y": null,
            "padding": null,
            "right": null,
            "top": null,
            "visibility": null,
            "width": null
          }
        },
        "fb13fb1cfb174800b08f88816895ce42": {
          "model_module": "@jupyter-widgets/controls",
          "model_name": "DescriptionStyleModel",
          "model_module_version": "1.5.0",
          "state": {
            "_model_module": "@jupyter-widgets/controls",
            "_model_module_version": "1.5.0",
            "_model_name": "DescriptionStyleModel",
            "_view_count": null,
            "_view_module": "@jupyter-widgets/base",
            "_view_module_version": "1.2.0",
            "_view_name": "StyleView",
            "description_width": ""
          }
        },
        "365930adc0e547a89919d9cf4d2d6dca": {
          "model_module": "@jupyter-widgets/controls",
          "model_name": "HBoxModel",
          "model_module_version": "1.5.0",
          "state": {
            "_dom_classes": [],
            "_model_module": "@jupyter-widgets/controls",
            "_model_module_version": "1.5.0",
            "_model_name": "HBoxModel",
            "_view_count": null,
            "_view_module": "@jupyter-widgets/controls",
            "_view_module_version": "1.5.0",
            "_view_name": "HBoxView",
            "box_style": "",
            "children": [
              "IPY_MODEL_9bb75cc14a7349be9c9533dc7d3bfbd8",
              "IPY_MODEL_e1ad32d6bec8435fa2b9eff87abe260c",
              "IPY_MODEL_85f99a7b428b492189e7cf8629d43928"
            ],
            "layout": "IPY_MODEL_bc4b82b76582400e87f630d65e39a22a"
          }
        },
        "9bb75cc14a7349be9c9533dc7d3bfbd8": {
          "model_module": "@jupyter-widgets/controls",
          "model_name": "HTMLModel",
          "model_module_version": "1.5.0",
          "state": {
            "_dom_classes": [],
            "_model_module": "@jupyter-widgets/controls",
            "_model_module_version": "1.5.0",
            "_model_name": "HTMLModel",
            "_view_count": null,
            "_view_module": "@jupyter-widgets/controls",
            "_view_module_version": "1.5.0",
            "_view_name": "HTMLView",
            "description": "",
            "description_tooltip": null,
            "layout": "IPY_MODEL_bb47950d9f83438b8e211014f1cb9c07",
            "placeholder": "​",
            "style": "IPY_MODEL_400e379438c046cfa01f8d48cb96794d",
            "value": "Map: 100%"
          }
        },
        "e1ad32d6bec8435fa2b9eff87abe260c": {
          "model_module": "@jupyter-widgets/controls",
          "model_name": "FloatProgressModel",
          "model_module_version": "1.5.0",
          "state": {
            "_dom_classes": [],
            "_model_module": "@jupyter-widgets/controls",
            "_model_module_version": "1.5.0",
            "_model_name": "FloatProgressModel",
            "_view_count": null,
            "_view_module": "@jupyter-widgets/controls",
            "_view_module_version": "1.5.0",
            "_view_name": "ProgressView",
            "bar_style": "success",
            "description": "",
            "description_tooltip": null,
            "layout": "IPY_MODEL_02a0ad8c2455435f8d4ad9b7b13618f1",
            "max": 8,
            "min": 0,
            "orientation": "horizontal",
            "style": "IPY_MODEL_4dc77a7a44ff46d1938b5a7f3320c3b8",
            "value": 8
          }
        },
        "85f99a7b428b492189e7cf8629d43928": {
          "model_module": "@jupyter-widgets/controls",
          "model_name": "HTMLModel",
          "model_module_version": "1.5.0",
          "state": {
            "_dom_classes": [],
            "_model_module": "@jupyter-widgets/controls",
            "_model_module_version": "1.5.0",
            "_model_name": "HTMLModel",
            "_view_count": null,
            "_view_module": "@jupyter-widgets/controls",
            "_view_module_version": "1.5.0",
            "_view_name": "HTMLView",
            "description": "",
            "description_tooltip": null,
            "layout": "IPY_MODEL_427ff8e1491d48469be8073df4ea6726",
            "placeholder": "​",
            "style": "IPY_MODEL_274aafc21f9e4c66aff5cd430360bdfc",
            "value": " 8/8 [00:00&lt;00:00, 145.97 examples/s]"
          }
        },
        "bc4b82b76582400e87f630d65e39a22a": {
          "model_module": "@jupyter-widgets/base",
          "model_name": "LayoutModel",
          "model_module_version": "1.2.0",
          "state": {
            "_model_module": "@jupyter-widgets/base",
            "_model_module_version": "1.2.0",
            "_model_name": "LayoutModel",
            "_view_count": null,
            "_view_module": "@jupyter-widgets/base",
            "_view_module_version": "1.2.0",
            "_view_name": "LayoutView",
            "align_content": null,
            "align_items": null,
            "align_self": null,
            "border": null,
            "bottom": null,
            "display": null,
            "flex": null,
            "flex_flow": null,
            "grid_area": null,
            "grid_auto_columns": null,
            "grid_auto_flow": null,
            "grid_auto_rows": null,
            "grid_column": null,
            "grid_gap": null,
            "grid_row": null,
            "grid_template_areas": null,
            "grid_template_columns": null,
            "grid_template_rows": null,
            "height": null,
            "justify_content": null,
            "justify_items": null,
            "left": null,
            "margin": null,
            "max_height": null,
            "max_width": null,
            "min_height": null,
            "min_width": null,
            "object_fit": null,
            "object_position": null,
            "order": null,
            "overflow": null,
            "overflow_x": null,
            "overflow_y": null,
            "padding": null,
            "right": null,
            "top": null,
            "visibility": null,
            "width": null
          }
        },
        "bb47950d9f83438b8e211014f1cb9c07": {
          "model_module": "@jupyter-widgets/base",
          "model_name": "LayoutModel",
          "model_module_version": "1.2.0",
          "state": {
            "_model_module": "@jupyter-widgets/base",
            "_model_module_version": "1.2.0",
            "_model_name": "LayoutModel",
            "_view_count": null,
            "_view_module": "@jupyter-widgets/base",
            "_view_module_version": "1.2.0",
            "_view_name": "LayoutView",
            "align_content": null,
            "align_items": null,
            "align_self": null,
            "border": null,
            "bottom": null,
            "display": null,
            "flex": null,
            "flex_flow": null,
            "grid_area": null,
            "grid_auto_columns": null,
            "grid_auto_flow": null,
            "grid_auto_rows": null,
            "grid_column": null,
            "grid_gap": null,
            "grid_row": null,
            "grid_template_areas": null,
            "grid_template_columns": null,
            "grid_template_rows": null,
            "height": null,
            "justify_content": null,
            "justify_items": null,
            "left": null,
            "margin": null,
            "max_height": null,
            "max_width": null,
            "min_height": null,
            "min_width": null,
            "object_fit": null,
            "object_position": null,
            "order": null,
            "overflow": null,
            "overflow_x": null,
            "overflow_y": null,
            "padding": null,
            "right": null,
            "top": null,
            "visibility": null,
            "width": null
          }
        },
        "400e379438c046cfa01f8d48cb96794d": {
          "model_module": "@jupyter-widgets/controls",
          "model_name": "DescriptionStyleModel",
          "model_module_version": "1.5.0",
          "state": {
            "_model_module": "@jupyter-widgets/controls",
            "_model_module_version": "1.5.0",
            "_model_name": "DescriptionStyleModel",
            "_view_count": null,
            "_view_module": "@jupyter-widgets/base",
            "_view_module_version": "1.2.0",
            "_view_name": "StyleView",
            "description_width": ""
          }
        },
        "02a0ad8c2455435f8d4ad9b7b13618f1": {
          "model_module": "@jupyter-widgets/base",
          "model_name": "LayoutModel",
          "model_module_version": "1.2.0",
          "state": {
            "_model_module": "@jupyter-widgets/base",
            "_model_module_version": "1.2.0",
            "_model_name": "LayoutModel",
            "_view_count": null,
            "_view_module": "@jupyter-widgets/base",
            "_view_module_version": "1.2.0",
            "_view_name": "LayoutView",
            "align_content": null,
            "align_items": null,
            "align_self": null,
            "border": null,
            "bottom": null,
            "display": null,
            "flex": null,
            "flex_flow": null,
            "grid_area": null,
            "grid_auto_columns": null,
            "grid_auto_flow": null,
            "grid_auto_rows": null,
            "grid_column": null,
            "grid_gap": null,
            "grid_row": null,
            "grid_template_areas": null,
            "grid_template_columns": null,
            "grid_template_rows": null,
            "height": null,
            "justify_content": null,
            "justify_items": null,
            "left": null,
            "margin": null,
            "max_height": null,
            "max_width": null,
            "min_height": null,
            "min_width": null,
            "object_fit": null,
            "object_position": null,
            "order": null,
            "overflow": null,
            "overflow_x": null,
            "overflow_y": null,
            "padding": null,
            "right": null,
            "top": null,
            "visibility": null,
            "width": null
          }
        },
        "4dc77a7a44ff46d1938b5a7f3320c3b8": {
          "model_module": "@jupyter-widgets/controls",
          "model_name": "ProgressStyleModel",
          "model_module_version": "1.5.0",
          "state": {
            "_model_module": "@jupyter-widgets/controls",
            "_model_module_version": "1.5.0",
            "_model_name": "ProgressStyleModel",
            "_view_count": null,
            "_view_module": "@jupyter-widgets/base",
            "_view_module_version": "1.2.0",
            "_view_name": "StyleView",
            "bar_color": null,
            "description_width": ""
          }
        },
        "427ff8e1491d48469be8073df4ea6726": {
          "model_module": "@jupyter-widgets/base",
          "model_name": "LayoutModel",
          "model_module_version": "1.2.0",
          "state": {
            "_model_module": "@jupyter-widgets/base",
            "_model_module_version": "1.2.0",
            "_model_name": "LayoutModel",
            "_view_count": null,
            "_view_module": "@jupyter-widgets/base",
            "_view_module_version": "1.2.0",
            "_view_name": "LayoutView",
            "align_content": null,
            "align_items": null,
            "align_self": null,
            "border": null,
            "bottom": null,
            "display": null,
            "flex": null,
            "flex_flow": null,
            "grid_area": null,
            "grid_auto_columns": null,
            "grid_auto_flow": null,
            "grid_auto_rows": null,
            "grid_column": null,
            "grid_gap": null,
            "grid_row": null,
            "grid_template_areas": null,
            "grid_template_columns": null,
            "grid_template_rows": null,
            "height": null,
            "justify_content": null,
            "justify_items": null,
            "left": null,
            "margin": null,
            "max_height": null,
            "max_width": null,
            "min_height": null,
            "min_width": null,
            "object_fit": null,
            "object_position": null,
            "order": null,
            "overflow": null,
            "overflow_x": null,
            "overflow_y": null,
            "padding": null,
            "right": null,
            "top": null,
            "visibility": null,
            "width": null
          }
        },
        "274aafc21f9e4c66aff5cd430360bdfc": {
          "model_module": "@jupyter-widgets/controls",
          "model_name": "DescriptionStyleModel",
          "model_module_version": "1.5.0",
          "state": {
            "_model_module": "@jupyter-widgets/controls",
            "_model_module_version": "1.5.0",
            "_model_name": "DescriptionStyleModel",
            "_view_count": null,
            "_view_module": "@jupyter-widgets/base",
            "_view_module_version": "1.2.0",
            "_view_name": "StyleView",
            "description_width": ""
          }
        },
        "9a49b432ce5d4c1080ca74144d0f7471": {
          "model_module": "@jupyter-widgets/controls",
          "model_name": "HBoxModel",
          "model_module_version": "1.5.0",
          "state": {
            "_dom_classes": [],
            "_model_module": "@jupyter-widgets/controls",
            "_model_module_version": "1.5.0",
            "_model_name": "HBoxModel",
            "_view_count": null,
            "_view_module": "@jupyter-widgets/controls",
            "_view_module_version": "1.5.0",
            "_view_name": "HBoxView",
            "box_style": "",
            "children": [
              "IPY_MODEL_5aa9cd566b9f4f6f805b6ef0ccd7b77b",
              "IPY_MODEL_f6cc391778d4434bb19770c6e64902cc",
              "IPY_MODEL_dbbe5cbf44a1465eba8482a29e2d9009"
            ],
            "layout": "IPY_MODEL_05155149f0eb47f8876941d5919226a9"
          }
        },
        "5aa9cd566b9f4f6f805b6ef0ccd7b77b": {
          "model_module": "@jupyter-widgets/controls",
          "model_name": "HTMLModel",
          "model_module_version": "1.5.0",
          "state": {
            "_dom_classes": [],
            "_model_module": "@jupyter-widgets/controls",
            "_model_module_version": "1.5.0",
            "_model_name": "HTMLModel",
            "_view_count": null,
            "_view_module": "@jupyter-widgets/controls",
            "_view_module_version": "1.5.0",
            "_view_name": "HTMLView",
            "description": "",
            "description_tooltip": null,
            "layout": "IPY_MODEL_5528d65c10f8475d974a84d8dcef7700",
            "placeholder": "​",
            "style": "IPY_MODEL_81d37177ad4e452c8fc143af2f0928fd",
            "value": "Map: 100%"
          }
        },
        "f6cc391778d4434bb19770c6e64902cc": {
          "model_module": "@jupyter-widgets/controls",
          "model_name": "FloatProgressModel",
          "model_module_version": "1.5.0",
          "state": {
            "_dom_classes": [],
            "_model_module": "@jupyter-widgets/controls",
            "_model_module_version": "1.5.0",
            "_model_name": "FloatProgressModel",
            "_view_count": null,
            "_view_module": "@jupyter-widgets/controls",
            "_view_module_version": "1.5.0",
            "_view_name": "ProgressView",
            "bar_style": "success",
            "description": "",
            "description_tooltip": null,
            "layout": "IPY_MODEL_869650d89a854751b051bfae843575f5",
            "max": 32,
            "min": 0,
            "orientation": "horizontal",
            "style": "IPY_MODEL_f721c0364a8f4f6990016161b863c7f2",
            "value": 32
          }
        },
        "dbbe5cbf44a1465eba8482a29e2d9009": {
          "model_module": "@jupyter-widgets/controls",
          "model_name": "HTMLModel",
          "model_module_version": "1.5.0",
          "state": {
            "_dom_classes": [],
            "_model_module": "@jupyter-widgets/controls",
            "_model_module_version": "1.5.0",
            "_model_name": "HTMLModel",
            "_view_count": null,
            "_view_module": "@jupyter-widgets/controls",
            "_view_module_version": "1.5.0",
            "_view_name": "HTMLView",
            "description": "",
            "description_tooltip": null,
            "layout": "IPY_MODEL_6ad4bab043764184b0c0d8d37a9af308",
            "placeholder": "​",
            "style": "IPY_MODEL_37e1d54906344ecea60f92d5042ccb44",
            "value": " 32/32 [00:00&lt;00:00, 836.16 examples/s]"
          }
        },
        "05155149f0eb47f8876941d5919226a9": {
          "model_module": "@jupyter-widgets/base",
          "model_name": "LayoutModel",
          "model_module_version": "1.2.0",
          "state": {
            "_model_module": "@jupyter-widgets/base",
            "_model_module_version": "1.2.0",
            "_model_name": "LayoutModel",
            "_view_count": null,
            "_view_module": "@jupyter-widgets/base",
            "_view_module_version": "1.2.0",
            "_view_name": "LayoutView",
            "align_content": null,
            "align_items": null,
            "align_self": null,
            "border": null,
            "bottom": null,
            "display": null,
            "flex": null,
            "flex_flow": null,
            "grid_area": null,
            "grid_auto_columns": null,
            "grid_auto_flow": null,
            "grid_auto_rows": null,
            "grid_column": null,
            "grid_gap": null,
            "grid_row": null,
            "grid_template_areas": null,
            "grid_template_columns": null,
            "grid_template_rows": null,
            "height": null,
            "justify_content": null,
            "justify_items": null,
            "left": null,
            "margin": null,
            "max_height": null,
            "max_width": null,
            "min_height": null,
            "min_width": null,
            "object_fit": null,
            "object_position": null,
            "order": null,
            "overflow": null,
            "overflow_x": null,
            "overflow_y": null,
            "padding": null,
            "right": null,
            "top": null,
            "visibility": null,
            "width": null
          }
        },
        "5528d65c10f8475d974a84d8dcef7700": {
          "model_module": "@jupyter-widgets/base",
          "model_name": "LayoutModel",
          "model_module_version": "1.2.0",
          "state": {
            "_model_module": "@jupyter-widgets/base",
            "_model_module_version": "1.2.0",
            "_model_name": "LayoutModel",
            "_view_count": null,
            "_view_module": "@jupyter-widgets/base",
            "_view_module_version": "1.2.0",
            "_view_name": "LayoutView",
            "align_content": null,
            "align_items": null,
            "align_self": null,
            "border": null,
            "bottom": null,
            "display": null,
            "flex": null,
            "flex_flow": null,
            "grid_area": null,
            "grid_auto_columns": null,
            "grid_auto_flow": null,
            "grid_auto_rows": null,
            "grid_column": null,
            "grid_gap": null,
            "grid_row": null,
            "grid_template_areas": null,
            "grid_template_columns": null,
            "grid_template_rows": null,
            "height": null,
            "justify_content": null,
            "justify_items": null,
            "left": null,
            "margin": null,
            "max_height": null,
            "max_width": null,
            "min_height": null,
            "min_width": null,
            "object_fit": null,
            "object_position": null,
            "order": null,
            "overflow": null,
            "overflow_x": null,
            "overflow_y": null,
            "padding": null,
            "right": null,
            "top": null,
            "visibility": null,
            "width": null
          }
        },
        "81d37177ad4e452c8fc143af2f0928fd": {
          "model_module": "@jupyter-widgets/controls",
          "model_name": "DescriptionStyleModel",
          "model_module_version": "1.5.0",
          "state": {
            "_model_module": "@jupyter-widgets/controls",
            "_model_module_version": "1.5.0",
            "_model_name": "DescriptionStyleModel",
            "_view_count": null,
            "_view_module": "@jupyter-widgets/base",
            "_view_module_version": "1.2.0",
            "_view_name": "StyleView",
            "description_width": ""
          }
        },
        "869650d89a854751b051bfae843575f5": {
          "model_module": "@jupyter-widgets/base",
          "model_name": "LayoutModel",
          "model_module_version": "1.2.0",
          "state": {
            "_model_module": "@jupyter-widgets/base",
            "_model_module_version": "1.2.0",
            "_model_name": "LayoutModel",
            "_view_count": null,
            "_view_module": "@jupyter-widgets/base",
            "_view_module_version": "1.2.0",
            "_view_name": "LayoutView",
            "align_content": null,
            "align_items": null,
            "align_self": null,
            "border": null,
            "bottom": null,
            "display": null,
            "flex": null,
            "flex_flow": null,
            "grid_area": null,
            "grid_auto_columns": null,
            "grid_auto_flow": null,
            "grid_auto_rows": null,
            "grid_column": null,
            "grid_gap": null,
            "grid_row": null,
            "grid_template_areas": null,
            "grid_template_columns": null,
            "grid_template_rows": null,
            "height": null,
            "justify_content": null,
            "justify_items": null,
            "left": null,
            "margin": null,
            "max_height": null,
            "max_width": null,
            "min_height": null,
            "min_width": null,
            "object_fit": null,
            "object_position": null,
            "order": null,
            "overflow": null,
            "overflow_x": null,
            "overflow_y": null,
            "padding": null,
            "right": null,
            "top": null,
            "visibility": null,
            "width": null
          }
        },
        "f721c0364a8f4f6990016161b863c7f2": {
          "model_module": "@jupyter-widgets/controls",
          "model_name": "ProgressStyleModel",
          "model_module_version": "1.5.0",
          "state": {
            "_model_module": "@jupyter-widgets/controls",
            "_model_module_version": "1.5.0",
            "_model_name": "ProgressStyleModel",
            "_view_count": null,
            "_view_module": "@jupyter-widgets/base",
            "_view_module_version": "1.2.0",
            "_view_name": "StyleView",
            "bar_color": null,
            "description_width": ""
          }
        },
        "6ad4bab043764184b0c0d8d37a9af308": {
          "model_module": "@jupyter-widgets/base",
          "model_name": "LayoutModel",
          "model_module_version": "1.2.0",
          "state": {
            "_model_module": "@jupyter-widgets/base",
            "_model_module_version": "1.2.0",
            "_model_name": "LayoutModel",
            "_view_count": null,
            "_view_module": "@jupyter-widgets/base",
            "_view_module_version": "1.2.0",
            "_view_name": "LayoutView",
            "align_content": null,
            "align_items": null,
            "align_self": null,
            "border": null,
            "bottom": null,
            "display": null,
            "flex": null,
            "flex_flow": null,
            "grid_area": null,
            "grid_auto_columns": null,
            "grid_auto_flow": null,
            "grid_auto_rows": null,
            "grid_column": null,
            "grid_gap": null,
            "grid_row": null,
            "grid_template_areas": null,
            "grid_template_columns": null,
            "grid_template_rows": null,
            "height": null,
            "justify_content": null,
            "justify_items": null,
            "left": null,
            "margin": null,
            "max_height": null,
            "max_width": null,
            "min_height": null,
            "min_width": null,
            "object_fit": null,
            "object_position": null,
            "order": null,
            "overflow": null,
            "overflow_x": null,
            "overflow_y": null,
            "padding": null,
            "right": null,
            "top": null,
            "visibility": null,
            "width": null
          }
        },
        "37e1d54906344ecea60f92d5042ccb44": {
          "model_module": "@jupyter-widgets/controls",
          "model_name": "DescriptionStyleModel",
          "model_module_version": "1.5.0",
          "state": {
            "_model_module": "@jupyter-widgets/controls",
            "_model_module_version": "1.5.0",
            "_model_name": "DescriptionStyleModel",
            "_view_count": null,
            "_view_module": "@jupyter-widgets/base",
            "_view_module_version": "1.2.0",
            "_view_name": "StyleView",
            "description_width": ""
          }
        },
        "7d00e7cae5104fdfb41ab97399c42b7d": {
          "model_module": "@jupyter-widgets/controls",
          "model_name": "HBoxModel",
          "model_module_version": "1.5.0",
          "state": {
            "_dom_classes": [],
            "_model_module": "@jupyter-widgets/controls",
            "_model_module_version": "1.5.0",
            "_model_name": "HBoxModel",
            "_view_count": null,
            "_view_module": "@jupyter-widgets/controls",
            "_view_module_version": "1.5.0",
            "_view_name": "HBoxView",
            "box_style": "",
            "children": [
              "IPY_MODEL_35f1931465c143f194268792e6ed2566",
              "IPY_MODEL_ff07269a125d47d7b3b7888b2ab933cd",
              "IPY_MODEL_bb4abbc86ce54e3885e259de8f5e3795"
            ],
            "layout": "IPY_MODEL_e5f05fd7b1914427b7b28671866f8ff8"
          }
        },
        "35f1931465c143f194268792e6ed2566": {
          "model_module": "@jupyter-widgets/controls",
          "model_name": "HTMLModel",
          "model_module_version": "1.5.0",
          "state": {
            "_dom_classes": [],
            "_model_module": "@jupyter-widgets/controls",
            "_model_module_version": "1.5.0",
            "_model_name": "HTMLModel",
            "_view_count": null,
            "_view_module": "@jupyter-widgets/controls",
            "_view_module_version": "1.5.0",
            "_view_name": "HTMLView",
            "description": "",
            "description_tooltip": null,
            "layout": "IPY_MODEL_ab9d8aeaffeb4821bf256941e1212ca8",
            "placeholder": "​",
            "style": "IPY_MODEL_241cdc002f3747b9ad20e135c8d0e5ca",
            "value": "Map: 100%"
          }
        },
        "ff07269a125d47d7b3b7888b2ab933cd": {
          "model_module": "@jupyter-widgets/controls",
          "model_name": "FloatProgressModel",
          "model_module_version": "1.5.0",
          "state": {
            "_dom_classes": [],
            "_model_module": "@jupyter-widgets/controls",
            "_model_module_version": "1.5.0",
            "_model_name": "FloatProgressModel",
            "_view_count": null,
            "_view_module": "@jupyter-widgets/controls",
            "_view_module_version": "1.5.0",
            "_view_name": "ProgressView",
            "bar_style": "success",
            "description": "",
            "description_tooltip": null,
            "layout": "IPY_MODEL_489d98323e99422a8e0848216dfab4f6",
            "max": 8,
            "min": 0,
            "orientation": "horizontal",
            "style": "IPY_MODEL_5096494430584fb5b6d58dc518bf79b5",
            "value": 8
          }
        },
        "bb4abbc86ce54e3885e259de8f5e3795": {
          "model_module": "@jupyter-widgets/controls",
          "model_name": "HTMLModel",
          "model_module_version": "1.5.0",
          "state": {
            "_dom_classes": [],
            "_model_module": "@jupyter-widgets/controls",
            "_model_module_version": "1.5.0",
            "_model_name": "HTMLModel",
            "_view_count": null,
            "_view_module": "@jupyter-widgets/controls",
            "_view_module_version": "1.5.0",
            "_view_name": "HTMLView",
            "description": "",
            "description_tooltip": null,
            "layout": "IPY_MODEL_c18a1f40f00941da942c7944e4ae9612",
            "placeholder": "​",
            "style": "IPY_MODEL_e088ad7ca0b742c0982d485b08deb5c7",
            "value": " 8/8 [00:00&lt;00:00, 366.79 examples/s]"
          }
        },
        "e5f05fd7b1914427b7b28671866f8ff8": {
          "model_module": "@jupyter-widgets/base",
          "model_name": "LayoutModel",
          "model_module_version": "1.2.0",
          "state": {
            "_model_module": "@jupyter-widgets/base",
            "_model_module_version": "1.2.0",
            "_model_name": "LayoutModel",
            "_view_count": null,
            "_view_module": "@jupyter-widgets/base",
            "_view_module_version": "1.2.0",
            "_view_name": "LayoutView",
            "align_content": null,
            "align_items": null,
            "align_self": null,
            "border": null,
            "bottom": null,
            "display": null,
            "flex": null,
            "flex_flow": null,
            "grid_area": null,
            "grid_auto_columns": null,
            "grid_auto_flow": null,
            "grid_auto_rows": null,
            "grid_column": null,
            "grid_gap": null,
            "grid_row": null,
            "grid_template_areas": null,
            "grid_template_columns": null,
            "grid_template_rows": null,
            "height": null,
            "justify_content": null,
            "justify_items": null,
            "left": null,
            "margin": null,
            "max_height": null,
            "max_width": null,
            "min_height": null,
            "min_width": null,
            "object_fit": null,
            "object_position": null,
            "order": null,
            "overflow": null,
            "overflow_x": null,
            "overflow_y": null,
            "padding": null,
            "right": null,
            "top": null,
            "visibility": null,
            "width": null
          }
        },
        "ab9d8aeaffeb4821bf256941e1212ca8": {
          "model_module": "@jupyter-widgets/base",
          "model_name": "LayoutModel",
          "model_module_version": "1.2.0",
          "state": {
            "_model_module": "@jupyter-widgets/base",
            "_model_module_version": "1.2.0",
            "_model_name": "LayoutModel",
            "_view_count": null,
            "_view_module": "@jupyter-widgets/base",
            "_view_module_version": "1.2.0",
            "_view_name": "LayoutView",
            "align_content": null,
            "align_items": null,
            "align_self": null,
            "border": null,
            "bottom": null,
            "display": null,
            "flex": null,
            "flex_flow": null,
            "grid_area": null,
            "grid_auto_columns": null,
            "grid_auto_flow": null,
            "grid_auto_rows": null,
            "grid_column": null,
            "grid_gap": null,
            "grid_row": null,
            "grid_template_areas": null,
            "grid_template_columns": null,
            "grid_template_rows": null,
            "height": null,
            "justify_content": null,
            "justify_items": null,
            "left": null,
            "margin": null,
            "max_height": null,
            "max_width": null,
            "min_height": null,
            "min_width": null,
            "object_fit": null,
            "object_position": null,
            "order": null,
            "overflow": null,
            "overflow_x": null,
            "overflow_y": null,
            "padding": null,
            "right": null,
            "top": null,
            "visibility": null,
            "width": null
          }
        },
        "241cdc002f3747b9ad20e135c8d0e5ca": {
          "model_module": "@jupyter-widgets/controls",
          "model_name": "DescriptionStyleModel",
          "model_module_version": "1.5.0",
          "state": {
            "_model_module": "@jupyter-widgets/controls",
            "_model_module_version": "1.5.0",
            "_model_name": "DescriptionStyleModel",
            "_view_count": null,
            "_view_module": "@jupyter-widgets/base",
            "_view_module_version": "1.2.0",
            "_view_name": "StyleView",
            "description_width": ""
          }
        },
        "489d98323e99422a8e0848216dfab4f6": {
          "model_module": "@jupyter-widgets/base",
          "model_name": "LayoutModel",
          "model_module_version": "1.2.0",
          "state": {
            "_model_module": "@jupyter-widgets/base",
            "_model_module_version": "1.2.0",
            "_model_name": "LayoutModel",
            "_view_count": null,
            "_view_module": "@jupyter-widgets/base",
            "_view_module_version": "1.2.0",
            "_view_name": "LayoutView",
            "align_content": null,
            "align_items": null,
            "align_self": null,
            "border": null,
            "bottom": null,
            "display": null,
            "flex": null,
            "flex_flow": null,
            "grid_area": null,
            "grid_auto_columns": null,
            "grid_auto_flow": null,
            "grid_auto_rows": null,
            "grid_column": null,
            "grid_gap": null,
            "grid_row": null,
            "grid_template_areas": null,
            "grid_template_columns": null,
            "grid_template_rows": null,
            "height": null,
            "justify_content": null,
            "justify_items": null,
            "left": null,
            "margin": null,
            "max_height": null,
            "max_width": null,
            "min_height": null,
            "min_width": null,
            "object_fit": null,
            "object_position": null,
            "order": null,
            "overflow": null,
            "overflow_x": null,
            "overflow_y": null,
            "padding": null,
            "right": null,
            "top": null,
            "visibility": null,
            "width": null
          }
        },
        "5096494430584fb5b6d58dc518bf79b5": {
          "model_module": "@jupyter-widgets/controls",
          "model_name": "ProgressStyleModel",
          "model_module_version": "1.5.0",
          "state": {
            "_model_module": "@jupyter-widgets/controls",
            "_model_module_version": "1.5.0",
            "_model_name": "ProgressStyleModel",
            "_view_count": null,
            "_view_module": "@jupyter-widgets/base",
            "_view_module_version": "1.2.0",
            "_view_name": "StyleView",
            "bar_color": null,
            "description_width": ""
          }
        },
        "c18a1f40f00941da942c7944e4ae9612": {
          "model_module": "@jupyter-widgets/base",
          "model_name": "LayoutModel",
          "model_module_version": "1.2.0",
          "state": {
            "_model_module": "@jupyter-widgets/base",
            "_model_module_version": "1.2.0",
            "_model_name": "LayoutModel",
            "_view_count": null,
            "_view_module": "@jupyter-widgets/base",
            "_view_module_version": "1.2.0",
            "_view_name": "LayoutView",
            "align_content": null,
            "align_items": null,
            "align_self": null,
            "border": null,
            "bottom": null,
            "display": null,
            "flex": null,
            "flex_flow": null,
            "grid_area": null,
            "grid_auto_columns": null,
            "grid_auto_flow": null,
            "grid_auto_rows": null,
            "grid_column": null,
            "grid_gap": null,
            "grid_row": null,
            "grid_template_areas": null,
            "grid_template_columns": null,
            "grid_template_rows": null,
            "height": null,
            "justify_content": null,
            "justify_items": null,
            "left": null,
            "margin": null,
            "max_height": null,
            "max_width": null,
            "min_height": null,
            "min_width": null,
            "object_fit": null,
            "object_position": null,
            "order": null,
            "overflow": null,
            "overflow_x": null,
            "overflow_y": null,
            "padding": null,
            "right": null,
            "top": null,
            "visibility": null,
            "width": null
          }
        },
        "e088ad7ca0b742c0982d485b08deb5c7": {
          "model_module": "@jupyter-widgets/controls",
          "model_name": "DescriptionStyleModel",
          "model_module_version": "1.5.0",
          "state": {
            "_model_module": "@jupyter-widgets/controls",
            "_model_module_version": "1.5.0",
            "_model_name": "DescriptionStyleModel",
            "_view_count": null,
            "_view_module": "@jupyter-widgets/base",
            "_view_module_version": "1.2.0",
            "_view_name": "StyleView",
            "description_width": ""
          }
        }
      }
    }
  },
  "cells": [
    {
      "cell_type": "markdown",
      "source": [
        "#Use Case 1: Classification Pipeline"
      ],
      "metadata": {
        "id": "1RD9QakB9dhx"
      }
    },
    {
      "cell_type": "markdown",
      "source": [
        "##1. Prompt & Schema Design"
      ],
      "metadata": {
        "id": "3VyGUgTvMKQa"
      }
    },
    {
      "cell_type": "code",
      "source": [
        "\"\"\"\n",
        "You are an AI assistant trained to classify customer feedback into two categories: \"Complaint\" or \"Praise\".\n",
        "\n",
        "Instructions:\n",
        "1. Read the feedback carefully.\n",
        "2. Based on the sentiment and content, classify the feedback as either \"Complaint\" or \"Praise\".\n",
        "3. Return the result in the following JSON format:\n",
        "\n",
        "{\n",
        "  \"label\": \"Complaint\" | \"Praise\",\n",
        "  \"confidence\": float  // value between 0 and 1 indicating confidence in the classification\n",
        "}\n",
        "\n",
        "Feedback: \"<<INSERT_FEEDBACK_HERE>>\"\n",
        "\n",
        "\"\"\"\n",
        "\n",
        "# Note :  Designed a prompt that takes raw feedback and returns a label (\"Complaint\" or \"Praise\") and confidence score."
      ],
      "metadata": {
        "id": "60aESn2ODm49",
        "colab": {
          "base_uri": "https://localhost:8080/",
          "height": 89
        },
        "outputId": "20fa94e5-3c03-4b7c-8302-54ca1bc42cb8"
      },
      "execution_count": 1,
      "outputs": [
        {
          "output_type": "execute_result",
          "data": {
            "text/plain": [
              "'\\nYou are an AI assistant trained to classify customer feedback into two categories: \"Complaint\" or \"Praise\".\\n\\nInstructions:\\n1. Read the feedback carefully.\\n2. Based on the sentiment and content, classify the feedback as either \"Complaint\" or \"Praise\".\\n3. Return the result in the following JSON format:\\n\\n{\\n  \"label\": \"Complaint\" | \"Praise\",\\n  \"confidence\": float  // value between 0 and 1 indicating confidence in the classification\\n}\\n\\nFeedback: \"<<INSERT_FEEDBACK_HERE>>\"\\n\\n'"
            ],
            "application/vnd.google.colaboratory.intrinsic+json": {
              "type": "string"
            }
          },
          "metadata": {},
          "execution_count": 1
        }
      ]
    },
    {
      "cell_type": "markdown",
      "source": [
        "##2. Evaluation\n",
        "\n",
        "### Here are 30 simulated customer feedback entries with manual labels:"
      ],
      "metadata": {
        "id": "TJd7UQ0DNOPG"
      }
    },
    {
      "cell_type": "markdown",
      "source": [
        "| Feedback                                                      | Ground Truth Label |\n",
        "| ------------------------------------------------------------- | ------------------ |\n",
        "| The delivery was late and the package was damaged.            | Complaint          |\n",
        "| Amazing customer service, very helpful staff!                 | Praise             |\n",
        "| I received the wrong item, not happy with the service.        | Complaint          |\n",
        "| Great experience, I will shop again.                          | Praise             |\n",
        "| My issue was ignored after several emails.                    | Complaint          |\n",
        "| Excellent quality, totally worth the price.                   | Praise             |\n",
        "| Very disappointed with the product.                           | Complaint          |\n",
        "| Thank you for the fast shipping!                              | Praise             |\n",
        "| The app keeps crashing every time I open it.                  | Complaint          |\n",
        "| The representative was so polite and solved my issue quickly. | Praise             |\n",
        "| The return process was complicated and slow.                  | Complaint          |\n",
        "| I love your new collection!                                   | Praise             |\n",
        "| I never received my order.                                    | Complaint          |\n",
        "| This is my favorite brand now.                                | Praise             |\n",
        "| Unacceptable customer service.                                | Complaint          |\n",
        "| The packaging was beautiful.                                  | Praise             |\n",
        "| No response from support for 5 days.                          | Complaint          |\n",
        "| Very happy with the speed and accuracy.                       | Praise             |\n",
        "| The instructions were unclear and confusing.                  | Complaint          |\n",
        "| Everything was perfect.                                       | Praise             |\n",
        "| It took too long to resolve my issue.                         | Complaint          |\n",
        "| Fantastic experience, I’m very satisfied.                     | Praise             |\n",
        "| I got a defective item.                                       | Complaint          |\n",
        "| Best online experience I’ve had!                              | Praise             |\n",
        "| Totally unusable product.                                     | Complaint          |\n",
        "| Smooth checkout and fast delivery.                            | Praise             |\n",
        "| App doesn't work as advertised.                               | Complaint          |\n",
        "| Thank you for the amazing discount!                           | Praise             |\n",
        "| Poor packaging caused the item to break.                      | Complaint          |\n",
        "| Will definitely recommend to friends.                         | Praise             |\n"
      ],
      "metadata": {
        "id": "4El0UIwcNT7J"
      }
    },
    {
      "cell_type": "markdown",
      "source": [
        " LLM Predictions (Example Simulation, e.g., using GPT-4)\n",
        "\n",
        " | Predicted Label | True Label | Outcome        |\n",
        "| --------------- | ---------- | -------------- |\n",
        "| Complaint       | Complaint  | True Positive  |\n",
        "| Praise          | Praise     | True Positive  |\n",
        "| Complaint       | Complaint  | True Positive  |\n",
        "| Praise          | Praise     | True Positive  |\n",
        "| Complaint       | Complaint  | True Positive  |\n",
        "| Praise          | Praise     | True Positive  |\n",
        "| Complaint       | Complaint  | True Positive  |\n",
        "| Praise          | Praise     | True Positive  |\n",
        "| Complaint       | Complaint  | True Positive  |\n",
        "| Praise          | Praise     | True Positive  |\n",
        "| Complaint       | Complaint  | True Positive  |\n",
        "| Praise          | Praise     | True Positive  |\n",
        "| Praise          | Complaint  | False Negative |\n",
        "| Praise          | Praise     | True Positive  |\n",
        "| Complaint       | Complaint  | True Positive  |\n",
        "| Praise          | Praise     | True Positive  |\n",
        "| Complaint       | Complaint  | True Positive  |\n",
        "| Praise          | Praise     | True Positive  |\n",
        "| Complaint       | Complaint  | True Positive  |\n",
        "| Praise          | Praise     | True Positive  |\n",
        "| Complaint       | Complaint  | True Positive  |\n",
        "| Praise          | Praise     | True Positive  |\n",
        "| Complaint       | Complaint  | True Positive  |\n",
        "| Praise          | Praise     | True Positive  |\n",
        "| Complaint       | Complaint  | True Positive  |\n",
        "| Praise          | Praise     | True Positive  |\n",
        "| Complaint       | Complaint  | True Positive  |\n",
        "| Praise          | Praise     | True Positive  |\n",
        "| Complaint       | Complaint  | True Positive  |\n",
        "| Complaint       | Praise     | False Positive |\n"
      ],
      "metadata": {
        "id": "MuE02Xpa5WYW"
      }
    },
    {
      "cell_type": "markdown",
      "source": [
        "Metrics Calculation:\n",
        "\n",
        "- True Positives (TP): 27\n",
        "\n",
        "- False Positives (FP): 1\n",
        "\n",
        "- False Negatives (FN): 2\n",
        "\n",
        "- True Negatives (TN): 0 (not applicable in binary classification like this)"
      ],
      "metadata": {
        "id": "VoYlpAsL5hwx"
      }
    },
    {
      "cell_type": "markdown",
      "source": [
        "Formulas:\n",
        "\n",
        "Precision = TP / (TP + FP) = 27 / (27 + 1) = 0.964\n",
        "\n",
        "Recall = TP / (TP + FN) = 27 / (27 + 2) = 0.931"
      ],
      "metadata": {
        "id": "r2S6M2aJ5rcE"
      }
    },
    {
      "cell_type": "markdown",
      "source": [
        "##3. Data Augmentation\n",
        "\n",
        "LLM Prompt to Generate \"Complaint\" Examples:"
      ],
      "metadata": {
        "id": "hwSgUYjb51mU"
      }
    },
    {
      "cell_type": "code",
      "source": [
        "\"\"\"\n",
        "You are a customer simulating real feedback to a company. Generate 100 unique\n",
        "and realistic complaints about product quality, delivery issues, customer service,\n",
        "app experience, or return process. Make sure each complaint is one or two sentences long,\n",
        "sounds authentic, and uses casual customer language.\n",
        "\n",
        "\"\"\"\n",
        "\n",
        "# Note: LLM Prompt to Generate \"Complaint\" Examples:"
      ],
      "metadata": {
        "id": "Bvn1YijaNUzR",
        "colab": {
          "base_uri": "https://localhost:8080/",
          "height": 71
        },
        "outputId": "afdf917f-9184-4361-e388-ccc40e303733"
      },
      "execution_count": 2,
      "outputs": [
        {
          "output_type": "execute_result",
          "data": {
            "text/plain": [
              "'\\nYou are a customer simulating real feedback to a company. Generate 100 unique\\nand realistic complaints about product quality, delivery issues, customer service,\\napp experience, or return process. Make sure each complaint is one or two sentences long,\\nsounds authentic, and uses casual customer language.\\n\\n'"
            ],
            "application/vnd.google.colaboratory.intrinsic+json": {
              "type": "string"
            }
          },
          "metadata": {},
          "execution_count": 2
        }
      ]
    },
    {
      "cell_type": "markdown",
      "source": [
        "#### Product Quality (sample 5 complaints)\n",
        "\n",
        "\n",
        "- The stitching came apart after just one wash—super disappointing.\n",
        "\n",
        "- This charger stopped working within a week of use.\n",
        "\n",
        "- The shoes looked great online, but the sole broke in 3 days.\n",
        "\n",
        "- Color faded after one use—what kind of dye are you using?\n",
        "\n",
        "- I ordered a medium and it fits like an extra-small.\n"
      ],
      "metadata": {
        "id": "tNNeSeSx6jyC"
      }
    },
    {
      "cell_type": "markdown",
      "source": [
        "####Delivery Issues (sample 5 complaints)\n",
        "\n",
        "- Package showed up 5 days late with no updates.\n",
        "\n",
        "- The tracking link never worked.\n",
        "\n",
        "- I received someone else’s order, not mine.\n",
        "\n",
        "- The box was all crushed and barely taped.\n",
        "\n",
        "- Left at the wrong house—had to track it down myself.\n",
        "\n",
        "\n"
      ],
      "metadata": {
        "id": "iUlcNaMi7A1j"
      }
    },
    {
      "cell_type": "markdown",
      "source": [
        "####Customer Service (sample 5 complaints using prompt)\n",
        "\n",
        "- No one picks up the phone and the chat is useless.\n",
        "\n",
        "- I've emailed three times and got no response.\n",
        "\n",
        "- The agent kept repeating the same script, didn’t help at all.\n",
        "\n",
        "- I was transferred five times and still no resolution.\n",
        "\n",
        "- I waited 40 minutes on hold just to be disconnected."
      ],
      "metadata": {
        "id": "kL5704p27cdQ"
      }
    },
    {
      "cell_type": "markdown",
      "source": [
        "####App Experience (sample 5 complaints using prompt)\n",
        "\n",
        "- The app crashes every time I try to check out.\n",
        "\n",
        "- It logged me out randomly and I lost my cart.\n",
        "\n",
        "- Super slow and glitchy on Android.\n",
        "\n",
        "- Coupons don’t apply even when they say “valid.”\n",
        "\n",
        "- The search function never shows the right results."
      ],
      "metadata": {
        "id": "6q-pB-iH7l0v"
      }
    },
    {
      "cell_type": "markdown",
      "source": [
        "####Return Process (sample 5 complaints using prompt)\n",
        "\n",
        "- I submitted a return and never got a response.\n",
        "\n",
        "- The return pickup was rescheduled three times.\n",
        "\n",
        "- Your return policy is way too complicated.\n",
        "\n",
        "- Still waiting for my refund after 2 weeks.\n",
        "\n",
        "- They picked up the item but I haven’t heard anything since."
      ],
      "metadata": {
        "id": "4UzkKfIi8gTN"
      }
    },
    {
      "cell_type": "markdown",
      "source": [
        "##4. Error Analysis\n",
        "\n",
        "\n",
        "\n",
        "\n",
        "\n",
        "| Feedback                                                 | True Label | Predicted | Root Cause                              | Fix Proposal                                                 |\n",
        "| -------------------------------------------------------- | ---------- | --------- | --------------------------------------- | ------------------------------------------------------------ |\n",
        "| \"Thanks for the fast refund, but the product was awful.\" | Complaint  | Praise    | Mixed sentiment (ambiguous language)    | Add rule to prioritize negative keywords over positive cues. |\n",
        "| \"Not bad, could be better.\"                              | Complaint  | Praise    | Vague tone, no clear emotion            | Tune LLM to detect neutral/mild dissatisfaction phrasing.    |\n",
        "| \"Your products are decent, but support is terrible.\"     | Complaint  | Praise    | Focus on product, support issue ignored | Adjust prompt to evaluate entire sentence context.           |\n"
      ],
      "metadata": {
        "id": "k5ZZI82P9BOj"
      }
    },
    {
      "cell_type": "markdown",
      "source": [
        "#Use Case 2: LLM Fine-Tuning Pipeline"
      ],
      "metadata": {
        "id": "mrFCXVD3NphE"
      }
    },
    {
      "cell_type": "code",
      "source": [
        "pip install transformers datasets evaluate rouge-score"
      ],
      "metadata": {
        "id": "x1P3ndz_FXAm",
        "colab": {
          "base_uri": "https://localhost:8080/"
        },
        "outputId": "4e653bb8-4bde-4c83-c1b2-3d6c677e7c75"
      },
      "execution_count": 3,
      "outputs": [
        {
          "output_type": "stream",
          "name": "stdout",
          "text": [
            "Requirement already satisfied: transformers in /usr/local/lib/python3.11/dist-packages (4.51.3)\n",
            "Requirement already satisfied: datasets in /usr/local/lib/python3.11/dist-packages (2.14.4)\n",
            "Requirement already satisfied: evaluate in /usr/local/lib/python3.11/dist-packages (0.4.3)\n",
            "Collecting rouge-score\n",
            "  Downloading rouge_score-0.1.2.tar.gz (17 kB)\n",
            "  Preparing metadata (setup.py) ... \u001b[?25l\u001b[?25hdone\n",
            "Requirement already satisfied: filelock in /usr/local/lib/python3.11/dist-packages (from transformers) (3.18.0)\n",
            "Requirement already satisfied: huggingface-hub<1.0,>=0.30.0 in /usr/local/lib/python3.11/dist-packages (from transformers) (0.31.2)\n",
            "Requirement already satisfied: numpy>=1.17 in /usr/local/lib/python3.11/dist-packages (from transformers) (2.0.2)\n",
            "Requirement already satisfied: packaging>=20.0 in /usr/local/lib/python3.11/dist-packages (from transformers) (24.2)\n",
            "Requirement already satisfied: pyyaml>=5.1 in /usr/local/lib/python3.11/dist-packages (from transformers) (6.0.2)\n",
            "Requirement already satisfied: regex!=2019.12.17 in /usr/local/lib/python3.11/dist-packages (from transformers) (2024.11.6)\n",
            "Requirement already satisfied: requests in /usr/local/lib/python3.11/dist-packages (from transformers) (2.32.3)\n",
            "Requirement already satisfied: tokenizers<0.22,>=0.21 in /usr/local/lib/python3.11/dist-packages (from transformers) (0.21.1)\n",
            "Requirement already satisfied: safetensors>=0.4.3 in /usr/local/lib/python3.11/dist-packages (from transformers) (0.5.3)\n",
            "Requirement already satisfied: tqdm>=4.27 in /usr/local/lib/python3.11/dist-packages (from transformers) (4.67.1)\n",
            "Requirement already satisfied: pyarrow>=8.0.0 in /usr/local/lib/python3.11/dist-packages (from datasets) (18.1.0)\n",
            "Requirement already satisfied: dill<0.3.8,>=0.3.0 in /usr/local/lib/python3.11/dist-packages (from datasets) (0.3.7)\n",
            "Requirement already satisfied: pandas in /usr/local/lib/python3.11/dist-packages (from datasets) (2.2.2)\n",
            "Requirement already satisfied: xxhash in /usr/local/lib/python3.11/dist-packages (from datasets) (3.5.0)\n",
            "Requirement already satisfied: multiprocess in /usr/local/lib/python3.11/dist-packages (from datasets) (0.70.15)\n",
            "Requirement already satisfied: fsspec>=2021.11.1 in /usr/local/lib/python3.11/dist-packages (from fsspec[http]>=2021.11.1->datasets) (2025.3.2)\n",
            "Requirement already satisfied: aiohttp in /usr/local/lib/python3.11/dist-packages (from datasets) (3.11.15)\n",
            "Requirement already satisfied: absl-py in /usr/local/lib/python3.11/dist-packages (from rouge-score) (1.4.0)\n",
            "Requirement already satisfied: nltk in /usr/local/lib/python3.11/dist-packages (from rouge-score) (3.9.1)\n",
            "Requirement already satisfied: six>=1.14.0 in /usr/local/lib/python3.11/dist-packages (from rouge-score) (1.17.0)\n",
            "Requirement already satisfied: aiohappyeyeballs>=2.3.0 in /usr/local/lib/python3.11/dist-packages (from aiohttp->datasets) (2.6.1)\n",
            "Requirement already satisfied: aiosignal>=1.1.2 in /usr/local/lib/python3.11/dist-packages (from aiohttp->datasets) (1.3.2)\n",
            "Requirement already satisfied: attrs>=17.3.0 in /usr/local/lib/python3.11/dist-packages (from aiohttp->datasets) (25.3.0)\n",
            "Requirement already satisfied: frozenlist>=1.1.1 in /usr/local/lib/python3.11/dist-packages (from aiohttp->datasets) (1.6.0)\n",
            "Requirement already satisfied: multidict<7.0,>=4.5 in /usr/local/lib/python3.11/dist-packages (from aiohttp->datasets) (6.4.3)\n",
            "Requirement already satisfied: propcache>=0.2.0 in /usr/local/lib/python3.11/dist-packages (from aiohttp->datasets) (0.3.1)\n",
            "Requirement already satisfied: yarl<2.0,>=1.17.0 in /usr/local/lib/python3.11/dist-packages (from aiohttp->datasets) (1.20.0)\n",
            "Requirement already satisfied: typing-extensions>=3.7.4.3 in /usr/local/lib/python3.11/dist-packages (from huggingface-hub<1.0,>=0.30.0->transformers) (4.13.2)\n",
            "Requirement already satisfied: charset-normalizer<4,>=2 in /usr/local/lib/python3.11/dist-packages (from requests->transformers) (3.4.2)\n",
            "Requirement already satisfied: idna<4,>=2.5 in /usr/local/lib/python3.11/dist-packages (from requests->transformers) (3.10)\n",
            "Requirement already satisfied: urllib3<3,>=1.21.1 in /usr/local/lib/python3.11/dist-packages (from requests->transformers) (2.4.0)\n",
            "Requirement already satisfied: certifi>=2017.4.17 in /usr/local/lib/python3.11/dist-packages (from requests->transformers) (2025.4.26)\n",
            "Requirement already satisfied: click in /usr/local/lib/python3.11/dist-packages (from nltk->rouge-score) (8.2.0)\n",
            "Requirement already satisfied: joblib in /usr/local/lib/python3.11/dist-packages (from nltk->rouge-score) (1.5.0)\n",
            "Requirement already satisfied: python-dateutil>=2.8.2 in /usr/local/lib/python3.11/dist-packages (from pandas->datasets) (2.9.0.post0)\n",
            "Requirement already satisfied: pytz>=2020.1 in /usr/local/lib/python3.11/dist-packages (from pandas->datasets) (2025.2)\n",
            "Requirement already satisfied: tzdata>=2022.7 in /usr/local/lib/python3.11/dist-packages (from pandas->datasets) (2025.2)\n",
            "Building wheels for collected packages: rouge-score\n",
            "  Building wheel for rouge-score (setup.py) ... \u001b[?25l\u001b[?25hdone\n",
            "  Created wheel for rouge-score: filename=rouge_score-0.1.2-py3-none-any.whl size=24934 sha256=71f7d4ff15327ce4408a10d38bb857d76d1da9d4cf29de4d32991553971c88da\n",
            "  Stored in directory: /root/.cache/pip/wheels/1e/19/43/8a442dc83660ca25e163e1bd1f89919284ab0d0c1475475148\n",
            "Successfully built rouge-score\n",
            "Installing collected packages: rouge-score\n",
            "Successfully installed rouge-score-0.1.2\n"
          ]
        }
      ]
    },
    {
      "cell_type": "code",
      "source": [
        "!pip install -U transformers\n",
        "import transformers\n",
        "print(transformers.__version__)"
      ],
      "metadata": {
        "colab": {
          "base_uri": "https://localhost:8080/"
        },
        "id": "UnB46-Z_Y8Q1",
        "outputId": "dc24ce88-db70-4ac4-e683-b4731bf9f0a0"
      },
      "execution_count": 4,
      "outputs": [
        {
          "output_type": "stream",
          "name": "stdout",
          "text": [
            "Requirement already satisfied: transformers in /usr/local/lib/python3.11/dist-packages (4.51.3)\n",
            "Collecting transformers\n",
            "  Downloading transformers-4.52.3-py3-none-any.whl.metadata (40 kB)\n",
            "\u001b[2K     \u001b[90m━━━━━━━━━━━━━━━━━━━━━━━━━━━━━━━━━━━━━━━━\u001b[0m \u001b[32m40.2/40.2 kB\u001b[0m \u001b[31m2.4 MB/s\u001b[0m eta \u001b[36m0:00:00\u001b[0m\n",
            "\u001b[?25hRequirement already satisfied: filelock in /usr/local/lib/python3.11/dist-packages (from transformers) (3.18.0)\n",
            "Requirement already satisfied: huggingface-hub<1.0,>=0.30.0 in /usr/local/lib/python3.11/dist-packages (from transformers) (0.31.2)\n",
            "Requirement already satisfied: numpy>=1.17 in /usr/local/lib/python3.11/dist-packages (from transformers) (2.0.2)\n",
            "Requirement already satisfied: packaging>=20.0 in /usr/local/lib/python3.11/dist-packages (from transformers) (24.2)\n",
            "Requirement already satisfied: pyyaml>=5.1 in /usr/local/lib/python3.11/dist-packages (from transformers) (6.0.2)\n",
            "Requirement already satisfied: regex!=2019.12.17 in /usr/local/lib/python3.11/dist-packages (from transformers) (2024.11.6)\n",
            "Requirement already satisfied: requests in /usr/local/lib/python3.11/dist-packages (from transformers) (2.32.3)\n",
            "Requirement already satisfied: tokenizers<0.22,>=0.21 in /usr/local/lib/python3.11/dist-packages (from transformers) (0.21.1)\n",
            "Requirement already satisfied: safetensors>=0.4.3 in /usr/local/lib/python3.11/dist-packages (from transformers) (0.5.3)\n",
            "Requirement already satisfied: tqdm>=4.27 in /usr/local/lib/python3.11/dist-packages (from transformers) (4.67.1)\n",
            "Requirement already satisfied: fsspec>=2023.5.0 in /usr/local/lib/python3.11/dist-packages (from huggingface-hub<1.0,>=0.30.0->transformers) (2025.3.2)\n",
            "Requirement already satisfied: typing-extensions>=3.7.4.3 in /usr/local/lib/python3.11/dist-packages (from huggingface-hub<1.0,>=0.30.0->transformers) (4.13.2)\n",
            "Requirement already satisfied: charset-normalizer<4,>=2 in /usr/local/lib/python3.11/dist-packages (from requests->transformers) (3.4.2)\n",
            "Requirement already satisfied: idna<4,>=2.5 in /usr/local/lib/python3.11/dist-packages (from requests->transformers) (3.10)\n",
            "Requirement already satisfied: urllib3<3,>=1.21.1 in /usr/local/lib/python3.11/dist-packages (from requests->transformers) (2.4.0)\n",
            "Requirement already satisfied: certifi>=2017.4.17 in /usr/local/lib/python3.11/dist-packages (from requests->transformers) (2025.4.26)\n",
            "Downloading transformers-4.52.3-py3-none-any.whl (10.5 MB)\n",
            "\u001b[2K   \u001b[90m━━━━━━━━━━━━━━━━━━━━━━━━━━━━━━━━━━━━━━━━\u001b[0m \u001b[32m10.5/10.5 MB\u001b[0m \u001b[31m41.5 MB/s\u001b[0m eta \u001b[36m0:00:00\u001b[0m\n",
            "\u001b[?25hInstalling collected packages: transformers\n",
            "  Attempting uninstall: transformers\n",
            "    Found existing installation: transformers 4.51.3\n",
            "    Uninstalling transformers-4.51.3:\n",
            "      Successfully uninstalled transformers-4.51.3\n",
            "Successfully installed transformers-4.52.3\n",
            "4.52.3\n"
          ]
        }
      ]
    },
    {
      "cell_type": "code",
      "source": [
        "# Step 1: Install required libraries (run only once)\n",
        "!pip install -q transformers datasets evaluate sentencepiece\n",
        "\n",
        "# Step 2: Import necessary packages\n",
        "import os\n",
        "import torch\n",
        "import numpy as np\n",
        "import json\n",
        "from datasets import Dataset, DatasetDict\n",
        "from sklearn.model_selection import train_test_split\n",
        "from transformers import AutoTokenizer, AutoModelForSeq2SeqLM\n",
        "from transformers import DataCollatorForSeq2Seq\n",
        "from transformers import Seq2SeqTrainer, Seq2SeqTrainingArguments\n",
        "import evaluate\n",
        "\n",
        "# Step 3: Set environment variables to offline mode (optional)\n",
        "os.environ[\"TRANSFORMERS_OFFLINE\"] = \"1\"\n",
        "os.environ[\"HF_DATASETS_OFFLINE\"] = \"1\"\n",
        "\n",
        "# Step 4: Load your JSONL data file manually\n",
        "data_file_path = \"/content/support_ticket_summary_50.jsonl\"\n",
        "records = []\n",
        "with open(data_file_path, 'r') as f:\n",
        "    for line in f:\n",
        "        records.append(json.loads(line))\n",
        "\n",
        "print(f\"Loaded {len(records)} records\")\n",
        "\n",
        "# Step 5: Split the loaded records into train and test sets (80/20 split)\n",
        "train_records, test_records = train_test_split(records, test_size=0.2, random_state=42)\n",
        "\n",
        "# Step 6: Convert lists of dicts into Hugging Face Dataset objects\n",
        "train_dataset = Dataset.from_list(train_records)\n",
        "test_dataset = Dataset.from_list(test_records)\n",
        "\n",
        "# Step 7: Create a DatasetDict for convenience\n",
        "dataset = DatasetDict({\n",
        "    'train': train_dataset,\n",
        "    'test': test_dataset\n",
        "})\n",
        "print(dataset)\n",
        "\n",
        "# Optional Step 8: Further split training set into train+validation (80/20 split)\n",
        "dataset = dataset['train'].train_test_split(test_size=0.2)\n",
        "print(dataset)\n",
        "\n",
        "# Step 9: Load tokenizer and model\n",
        "model_name = \"google/flan-t5-base\"\n",
        "tokenizer = AutoTokenizer.from_pretrained(model_name, use_auth_token=False)\n",
        "model = AutoModelForSeq2SeqLM.from_pretrained(model_name, use_auth_token=False)\n",
        "\n",
        "# Step 10: Define max lengths for input and target sequences\n",
        "max_input_length = 512\n",
        "max_target_length = 128\n",
        "\n",
        "# Step 11: Preprocessing function for tokenization\n",
        "def preprocess_function(examples):\n",
        "    inputs = examples[\"prompt\"]\n",
        "    targets = examples[\"completion\"]\n",
        "\n",
        "    model_inputs = tokenizer(inputs, max_length=max_input_length, truncation=True)\n",
        "\n",
        "    # For label tokenization with T5 tokenizer\n",
        "    with tokenizer.as_target_tokenizer():\n",
        "        labels = tokenizer(targets, max_length=max_target_length, truncation=True)\n",
        "\n",
        "    model_inputs[\"labels\"] = labels[\"input_ids\"]\n",
        "    return model_inputs\n",
        "\n",
        "# Step 12: Tokenize datasets with batching for efficiency\n",
        "tokenized_datasets = dataset.map(preprocess_function, batched=True)\n",
        "\n",
        "# Step 13: Data collator for dynamic padding during batching\n",
        "data_collator = DataCollatorForSeq2Seq(tokenizer, model=model)\n",
        "\n",
        "# Step 14: Load ROUGE metric\n",
        "rouge = evaluate.load(\"rouge\")\n",
        "\n",
        "# Step 15: Define compute_metrics function for trainer\n",
        "def compute_metrics(eval_pred):\n",
        "    predictions, labels = eval_pred\n",
        "\n",
        "    # Decode predictions and labels to text\n",
        "    decoded_preds = tokenizer.batch_decode(predictions, skip_special_tokens=True)\n",
        "\n",
        "    # Replace -100 in labels with pad_token_id to decode properly\n",
        "    labels = np.where(labels != -100, labels, tokenizer.pad_token_id)\n",
        "    decoded_labels = tokenizer.batch_decode(labels, skip_special_tokens=True)\n",
        "\n",
        "    # Compute ROUGE scores (returns floats now)\n",
        "    result = rouge.compute(predictions=decoded_preds, references=decoded_labels, use_stemmer=True)\n",
        "\n",
        "    # Return only rouge1 fmeasure (F1 score)\n",
        "    return {\"rouge1_fmeasure\": result[\"rouge1\"]}\n",
        "\n",
        "# Step 16: Define training arguments\n",
        "training_args = Seq2SeqTrainingArguments(\n",
        "    output_dir=\"./flan-t5-support-summarizer\",\n",
        "    per_device_train_batch_size=8,\n",
        "    per_device_eval_batch_size=8,\n",
        "    learning_rate=5e-5,\n",
        "    weight_decay=0.01,\n",
        "    num_train_epochs=10,\n",
        "    save_total_limit=2,\n",
        "    predict_with_generate=True,\n",
        "    logging_dir=\"./logs\",\n",
        "    logging_steps=20,\n",
        "    save_strategy=\"epoch\",\n",
        "    push_to_hub=False,\n",
        ")\n",
        "\n",
        "# Step 17: Initialize Seq2SeqTrainer\n",
        "trainer = Seq2SeqTrainer(\n",
        "    model=model,\n",
        "    args=training_args,\n",
        "    train_dataset=tokenized_datasets[\"train\"],\n",
        "    eval_dataset=tokenized_datasets[\"test\"],\n",
        "    tokenizer=tokenizer,\n",
        "    data_collator=data_collator,\n",
        "    compute_metrics=compute_metrics,\n",
        ")\n",
        "\n",
        "# Step 18: Train the model\n",
        "trainer.train()\n",
        "\n",
        "# Step 19: Save the final model and tokenizer locally\n",
        "trainer.save_model(\"./flan-t5-support-summarizer-final\")\n",
        "tokenizer.save_pretrained(\"./flan-t5-support-summarizer-final\")\n",
        "\n",
        "# Step 20: Evaluate the model on the test set\n",
        "results = trainer.evaluate(tokenized_datasets[\"test\"])\n",
        "print(\"Evaluation results:\", results)\n",
        "\n",
        "# Step 21: Generate predictions on the test set\n",
        "preds = trainer.predict(tokenized_datasets[\"test\"])\n",
        "decoded_preds = tokenizer.batch_decode(preds.predictions, skip_special_tokens=True)\n",
        "decoded_labels = tokenizer.batch_decode(\n",
        "    np.where(preds.label_ids != -100, preds.label_ids, tokenizer.pad_token_id),\n",
        "    skip_special_tokens=True\n",
        ")\n",
        "\n",
        "# Print some example summaries vs references\n",
        "for i in range(min(3, len(decoded_preds))):\n",
        "    print(f\"\\n=== Example {i+1} ===\")\n",
        "    print(\"Predicted summary:\", decoded_preds[i])\n",
        "    print(\"Reference summary:\", decoded_labels[i])\n",
        "\n",
        "# Step 22: Helper function to summarize new tickets\n",
        "def summarize_ticket(text):\n",
        "    device = torch.device(\"cuda\" if torch.cuda.is_available() else \"cpu\")\n",
        "    model.to(device)\n",
        "\n",
        "    inputs = tokenizer(text, return_tensors=\"pt\", max_length=max_input_length, truncation=True).to(device)\n",
        "    outputs = model.generate(**inputs, max_length=max_target_length, num_beams=4, early_stopping=True)\n",
        "    summary = tokenizer.decode(outputs[0].cpu(), skip_special_tokens=True)\n",
        "    return summary\n",
        "\n",
        "# Step 23: Test summarization on a new sample ticket\n",
        "sample_ticket = \"User reported: Printer not working and paper jams frequently in the tray.\"\n",
        "print(\"\\nSummary action items:\\n\", summarize_ticket(sample_ticket))\n"
      ],
      "metadata": {
        "colab": {
          "base_uri": "https://localhost:8080/",
          "height": 1000,
          "referenced_widgets": [
            "a00a3973028048a78425ba83f6f6b030",
            "c93650513f5f47798428033a89b04780",
            "c82ba62b88464319850f79884194edeb",
            "0c63f03448ad4d16ac59d2bd69e4db1d",
            "9bb983f2111b479ebd5e298ea2d31cc3",
            "229bed22334547a7a3182277f2355f6f",
            "6675c6ae6a204b8593f5d6bd07244516",
            "5e53649867034d308a99ac2708323cf6",
            "1f03687d960f4e43a9100387c3015fd4",
            "c505924ed05544248307380704941395",
            "fb13fb1cfb174800b08f88816895ce42",
            "365930adc0e547a89919d9cf4d2d6dca",
            "9bb75cc14a7349be9c9533dc7d3bfbd8",
            "e1ad32d6bec8435fa2b9eff87abe260c",
            "85f99a7b428b492189e7cf8629d43928",
            "bc4b82b76582400e87f630d65e39a22a",
            "bb47950d9f83438b8e211014f1cb9c07",
            "400e379438c046cfa01f8d48cb96794d",
            "02a0ad8c2455435f8d4ad9b7b13618f1",
            "4dc77a7a44ff46d1938b5a7f3320c3b8",
            "427ff8e1491d48469be8073df4ea6726",
            "274aafc21f9e4c66aff5cd430360bdfc"
          ]
        },
        "id": "_5w9DbQYaMMY",
        "outputId": "f5625f7c-089a-4d2d-eb3f-6b07f0a30963"
      },
      "execution_count": 6,
      "outputs": [
        {
          "output_type": "stream",
          "name": "stdout",
          "text": [
            "Loaded 50 records\n",
            "DatasetDict({\n",
            "    train: Dataset({\n",
            "        features: ['prompt', 'completion'],\n",
            "        num_rows: 40\n",
            "    })\n",
            "    test: Dataset({\n",
            "        features: ['prompt', 'completion'],\n",
            "        num_rows: 10\n",
            "    })\n",
            "})\n",
            "DatasetDict({\n",
            "    train: Dataset({\n",
            "        features: ['prompt', 'completion'],\n",
            "        num_rows: 32\n",
            "    })\n",
            "    test: Dataset({\n",
            "        features: ['prompt', 'completion'],\n",
            "        num_rows: 8\n",
            "    })\n",
            "})\n"
          ]
        },
        {
          "output_type": "stream",
          "name": "stderr",
          "text": [
            "/usr/local/lib/python3.11/dist-packages/transformers/models/auto/tokenization_auto.py:902: FutureWarning: The `use_auth_token` argument is deprecated and will be removed in v5 of Transformers. Please use `token` instead.\n",
            "  warnings.warn(\n",
            "/usr/local/lib/python3.11/dist-packages/huggingface_hub/utils/_auth.py:94: UserWarning: \n",
            "The secret `HF_TOKEN` does not exist in your Colab secrets.\n",
            "To authenticate with the Hugging Face Hub, create a token in your settings tab (https://huggingface.co/settings/tokens), set it as secret in your Google Colab and restart your session.\n",
            "You will be able to reuse this secret in all of your notebooks.\n",
            "Please note that authentication is recommended but still optional to access public models or datasets.\n",
            "  warnings.warn(\n",
            "/usr/local/lib/python3.11/dist-packages/transformers/models/auto/auto_factory.py:476: FutureWarning: The `use_auth_token` argument is deprecated and will be removed in v5 of Transformers. Please use `token` instead.\n",
            "  warnings.warn(\n"
          ]
        },
        {
          "output_type": "display_data",
          "data": {
            "text/plain": [
              "Map:   0%|          | 0/32 [00:00<?, ? examples/s]"
            ],
            "application/vnd.jupyter.widget-view+json": {
              "version_major": 2,
              "version_minor": 0,
              "model_id": "a00a3973028048a78425ba83f6f6b030"
            }
          },
          "metadata": {}
        },
        {
          "output_type": "stream",
          "name": "stderr",
          "text": [
            "/usr/local/lib/python3.11/dist-packages/transformers/tokenization_utils_base.py:3959: UserWarning: `as_target_tokenizer` is deprecated and will be removed in v5 of Transformers. You can tokenize your labels by using the argument `text_target` of the regular `__call__` method (either in the same call as your input texts if you use the same keyword arguments, or in a separate call.\n",
            "  warnings.warn(\n"
          ]
        },
        {
          "output_type": "display_data",
          "data": {
            "text/plain": [
              "Map:   0%|          | 0/8 [00:00<?, ? examples/s]"
            ],
            "application/vnd.jupyter.widget-view+json": {
              "version_major": 2,
              "version_minor": 0,
              "model_id": "365930adc0e547a89919d9cf4d2d6dca"
            }
          },
          "metadata": {}
        },
        {
          "output_type": "stream",
          "name": "stderr",
          "text": [
            "<ipython-input-6-79a0c8e9eeca>:113: FutureWarning: `tokenizer` is deprecated and will be removed in version 5.0.0 for `Seq2SeqTrainer.__init__`. Use `processing_class` instead.\n",
            "  trainer = Seq2SeqTrainer(\n",
            "\u001b[34m\u001b[1mwandb\u001b[0m: \u001b[33mWARNING\u001b[0m The `run_name` is currently set to the same value as `TrainingArguments.output_dir`. If this was not intended, please specify a different run name by setting the `TrainingArguments.run_name` parameter.\n"
          ]
        },
        {
          "output_type": "display_data",
          "data": {
            "text/plain": [
              "<IPython.core.display.Javascript object>"
            ],
            "application/javascript": [
              "\n",
              "        window._wandbApiKey = new Promise((resolve, reject) => {\n",
              "            function loadScript(url) {\n",
              "            return new Promise(function(resolve, reject) {\n",
              "                let newScript = document.createElement(\"script\");\n",
              "                newScript.onerror = reject;\n",
              "                newScript.onload = resolve;\n",
              "                document.body.appendChild(newScript);\n",
              "                newScript.src = url;\n",
              "            });\n",
              "            }\n",
              "            loadScript(\"https://cdn.jsdelivr.net/npm/postmate/build/postmate.min.js\").then(() => {\n",
              "            const iframe = document.createElement('iframe')\n",
              "            iframe.style.cssText = \"width:0;height:0;border:none\"\n",
              "            document.body.appendChild(iframe)\n",
              "            const handshake = new Postmate({\n",
              "                container: iframe,\n",
              "                url: 'https://wandb.ai/authorize'\n",
              "            });\n",
              "            const timeout = setTimeout(() => reject(\"Couldn't auto authenticate\"), 5000)\n",
              "            handshake.then(function(child) {\n",
              "                child.on('authorize', data => {\n",
              "                    clearTimeout(timeout)\n",
              "                    resolve(data)\n",
              "                });\n",
              "            });\n",
              "            })\n",
              "        });\n",
              "    "
            ]
          },
          "metadata": {}
        },
        {
          "output_type": "stream",
          "name": "stderr",
          "text": [
            "\u001b[34m\u001b[1mwandb\u001b[0m: Logging into wandb.ai. (Learn how to deploy a W&B server locally: https://wandb.me/wandb-server)\n",
            "\u001b[34m\u001b[1mwandb\u001b[0m: You can find your API key in your browser here: https://wandb.ai/authorize?ref=models\n",
            "wandb: Paste an API key from your profile and hit enter:"
          ]
        },
        {
          "name": "stdout",
          "output_type": "stream",
          "text": [
            " ··········\n"
          ]
        },
        {
          "output_type": "stream",
          "name": "stderr",
          "text": [
            "\u001b[34m\u001b[1mwandb\u001b[0m: \u001b[33mWARNING\u001b[0m If you're specifying your api key in code, ensure this code is not shared publicly.\n",
            "\u001b[34m\u001b[1mwandb\u001b[0m: \u001b[33mWARNING\u001b[0m Consider setting the WANDB_API_KEY environment variable, or running `wandb login` from the command line.\n",
            "\u001b[34m\u001b[1mwandb\u001b[0m: No netrc file found, creating one.\n",
            "\u001b[34m\u001b[1mwandb\u001b[0m: Appending key for api.wandb.ai to your netrc file: /root/.netrc\n",
            "\u001b[34m\u001b[1mwandb\u001b[0m: Currently logged in as: \u001b[33madigaikwad619\u001b[0m (\u001b[33madigaikwad619-itvedant-education-pvt\u001b[0m) to \u001b[32mhttps://api.wandb.ai\u001b[0m. Use \u001b[1m`wandb login --relogin`\u001b[0m to force relogin\n"
          ]
        },
        {
          "output_type": "display_data",
          "data": {
            "text/plain": [
              "<IPython.core.display.HTML object>"
            ],
            "text/html": [
              "Tracking run with wandb version 0.19.11"
            ]
          },
          "metadata": {}
        },
        {
          "output_type": "display_data",
          "data": {
            "text/plain": [
              "<IPython.core.display.HTML object>"
            ],
            "text/html": [
              "Run data is saved locally in <code>/content/wandb/run-20250526_052603-7gq5yvh9</code>"
            ]
          },
          "metadata": {}
        },
        {
          "output_type": "display_data",
          "data": {
            "text/plain": [
              "<IPython.core.display.HTML object>"
            ],
            "text/html": [
              "Syncing run <strong><a href='https://wandb.ai/adigaikwad619-itvedant-education-pvt/huggingface/runs/7gq5yvh9' target=\"_blank\">./flan-t5-support-summarizer</a></strong> to <a href='https://wandb.ai/adigaikwad619-itvedant-education-pvt/huggingface' target=\"_blank\">Weights & Biases</a> (<a href='https://wandb.me/developer-guide' target=\"_blank\">docs</a>)<br>"
            ]
          },
          "metadata": {}
        },
        {
          "output_type": "display_data",
          "data": {
            "text/plain": [
              "<IPython.core.display.HTML object>"
            ],
            "text/html": [
              " View project at <a href='https://wandb.ai/adigaikwad619-itvedant-education-pvt/huggingface' target=\"_blank\">https://wandb.ai/adigaikwad619-itvedant-education-pvt/huggingface</a>"
            ]
          },
          "metadata": {}
        },
        {
          "output_type": "display_data",
          "data": {
            "text/plain": [
              "<IPython.core.display.HTML object>"
            ],
            "text/html": [
              " View run at <a href='https://wandb.ai/adigaikwad619-itvedant-education-pvt/huggingface/runs/7gq5yvh9' target=\"_blank\">https://wandb.ai/adigaikwad619-itvedant-education-pvt/huggingface/runs/7gq5yvh9</a>"
            ]
          },
          "metadata": {}
        },
        {
          "output_type": "stream",
          "name": "stderr",
          "text": [
            "Passing a tuple of `past_key_values` is deprecated and will be removed in Transformers v4.48.0. You should pass an instance of `EncoderDecoderCache` instead, e.g. `past_key_values=EncoderDecoderCache.from_legacy_cache(past_key_values)`.\n"
          ]
        },
        {
          "output_type": "display_data",
          "data": {
            "text/plain": [
              "<IPython.core.display.HTML object>"
            ],
            "text/html": [
              "\n",
              "    <div>\n",
              "      \n",
              "      <progress value='40' max='40' style='width:300px; height:20px; vertical-align: middle;'></progress>\n",
              "      [40/40 04:38, Epoch 10/10]\n",
              "    </div>\n",
              "    <table border=\"1\" class=\"dataframe\">\n",
              "  <thead>\n",
              " <tr style=\"text-align: left;\">\n",
              "      <th>Step</th>\n",
              "      <th>Training Loss</th>\n",
              "    </tr>\n",
              "  </thead>\n",
              "  <tbody>\n",
              "    <tr>\n",
              "      <td>20</td>\n",
              "      <td>2.629000</td>\n",
              "    </tr>\n",
              "    <tr>\n",
              "      <td>40</td>\n",
              "      <td>1.591500</td>\n",
              "    </tr>\n",
              "  </tbody>\n",
              "</table><p>"
            ]
          },
          "metadata": {}
        },
        {
          "output_type": "display_data",
          "data": {
            "text/plain": [
              "<IPython.core.display.HTML object>"
            ],
            "text/html": []
          },
          "metadata": {}
        },
        {
          "output_type": "stream",
          "name": "stdout",
          "text": [
            "Evaluation results: {'eval_loss': 0.8801755905151367, 'eval_rouge1_fmeasure': 0.4838235294117647, 'eval_runtime': 1.2321, 'eval_samples_per_second': 6.493, 'eval_steps_per_second': 0.812, 'epoch': 10.0}\n",
            "\n",
            "=== Example 1 ===\n",
            "Predicted summary: - Reset password - Restart shared folder\n",
            "Reference summary: - Check network permissions - Verify folder path - Restart file sharing service\n",
            "\n",
            "=== Example 2 ===\n",
            "Predicted summary: - Reset password - Reset email address - Reset password\n",
            "Reference summary: - Reset user password - Verify email address - Enable 2FA\n",
            "\n",
            "=== Example 3 ===\n",
            "Predicted summary: - Reset password - Reset email address - Reset password\n",
            "Reference summary: - Reset user password - Verify email address - Enable 2FA\n",
            "\n",
            "Summary action items:\n",
            " - Restart printer - Restart printer - Restart printer\n"
          ]
        }
      ]
    },
    {
      "cell_type": "markdown",
      "source": [
        "#Fine Tunning\n",
        "\n",
        " - After Increasing Epoch to 20\n",
        " - Decrese Batch size to 4\n",
        " - Decrease Learning to 1e-5"
      ],
      "metadata": {
        "id": "CBXhQGG5_yTm"
      }
    },
    {
      "cell_type": "code",
      "source": [
        "# Step 1: Install required libraries (run only once)\n",
        "!pip install -q transformers datasets evaluate sentencepiece\n",
        "\n",
        "# Step 2: Import necessary packages\n",
        "import os\n",
        "import torch\n",
        "import numpy as np\n",
        "import json\n",
        "from datasets import Dataset, DatasetDict\n",
        "from sklearn.model_selection import train_test_split\n",
        "from transformers import AutoTokenizer, AutoModelForSeq2SeqLM\n",
        "from transformers import DataCollatorForSeq2Seq\n",
        "from transformers import Seq2SeqTrainer, Seq2SeqTrainingArguments\n",
        "import evaluate\n",
        "\n",
        "# Step 3: Set environment variables to offline mode (optional)\n",
        "os.environ[\"TRANSFORMERS_OFFLINE\"] = \"1\"\n",
        "os.environ[\"HF_DATASETS_OFFLINE\"] = \"1\"\n",
        "\n",
        "# Step 4: Load your JSONL data file manually\n",
        "data_file_path = \"/content/support_ticket_summary_50.jsonl\"\n",
        "records = []\n",
        "with open(data_file_path, 'r') as f:\n",
        "    for line in f:\n",
        "        records.append(json.loads(line))\n",
        "\n",
        "print(f\"Loaded {len(records)} records\")\n",
        "\n",
        "# Step 5: Split the loaded records into train and test sets (80/20 split)\n",
        "train_records, test_records = train_test_split(records, test_size=0.2, random_state=42)\n",
        "\n",
        "# Step 6: Convert lists of dicts into Hugging Face Dataset objects\n",
        "train_dataset = Dataset.from_list(train_records)\n",
        "test_dataset = Dataset.from_list(test_records)\n",
        "\n",
        "# Step 7: Create a DatasetDict for convenience\n",
        "dataset = DatasetDict({\n",
        "    'train': train_dataset,\n",
        "    'test': test_dataset\n",
        "})\n",
        "print(dataset)\n",
        "\n",
        "# Optional Step 8: Further split training set into train+validation (80/20 split)\n",
        "dataset = dataset['train'].train_test_split(test_size=0.2)\n",
        "print(dataset)\n",
        "\n",
        "# Step 9: Load tokenizer and model\n",
        "model_name = \"google/flan-t5-base\"\n",
        "tokenizer = AutoTokenizer.from_pretrained(model_name, use_auth_token=False)\n",
        "model = AutoModelForSeq2SeqLM.from_pretrained(model_name, use_auth_token=False)\n",
        "\n",
        "# Step 10: Define max lengths for input and target sequences\n",
        "max_input_length = 512\n",
        "max_target_length = 128\n",
        "\n",
        "# Step 11: Preprocessing function for tokenization\n",
        "def preprocess_function(examples):\n",
        "    inputs = examples[\"prompt\"]\n",
        "    targets = examples[\"completion\"]\n",
        "\n",
        "    model_inputs = tokenizer(inputs, max_length=max_input_length, truncation=True)\n",
        "\n",
        "    # For label tokenization with T5 tokenizer\n",
        "    with tokenizer.as_target_tokenizer():\n",
        "        labels = tokenizer(targets, max_length=max_target_length, truncation=True)\n",
        "\n",
        "    model_inputs[\"labels\"] = labels[\"input_ids\"]\n",
        "    return model_inputs\n",
        "\n",
        "# Step 12: Tokenize datasets with batching for efficiency\n",
        "tokenized_datasets = dataset.map(preprocess_function, batched=True)\n",
        "\n",
        "# Step 13: Data collator for dynamic padding during batching\n",
        "data_collator = DataCollatorForSeq2Seq(tokenizer, model=model)\n",
        "\n",
        "# Step 14: Load ROUGE metric\n",
        "rouge = evaluate.load(\"rouge\")\n",
        "\n",
        "# Step 15: Define compute_metrics function for trainer\n",
        "def compute_metrics(eval_pred):\n",
        "    predictions, labels = eval_pred\n",
        "\n",
        "    # Decode predictions and labels to text\n",
        "    decoded_preds = tokenizer.batch_decode(predictions, skip_special_tokens=True)\n",
        "\n",
        "    # Replace -100 in labels with pad_token_id to decode properly\n",
        "    labels = np.where(labels != -100, labels, tokenizer.pad_token_id)\n",
        "    decoded_labels = tokenizer.batch_decode(labels, skip_special_tokens=True)\n",
        "\n",
        "    # Compute ROUGE scores (returns floats now)\n",
        "    result = rouge.compute(predictions=decoded_preds, references=decoded_labels, use_stemmer=True)\n",
        "\n",
        "    # Return only rouge1 fmeasure (F1 score)\n",
        "    return {\"rouge1_fmeasure\": result[\"rouge1\"]}\n",
        "\n",
        "# Step 16: Define training arguments\n",
        "training_args = Seq2SeqTrainingArguments(\n",
        "    output_dir=\"./flan-t5-support-summarizer\",\n",
        "    per_device_train_batch_size=4,\n",
        "    per_device_eval_batch_size=4,\n",
        "    learning_rate=1e-5,\n",
        "    weight_decay=0.01,\n",
        "    num_train_epochs=20,\n",
        "    save_total_limit=2,\n",
        "    predict_with_generate=True,\n",
        "    logging_dir=\"./logs\",\n",
        "    logging_steps=20,\n",
        "    save_strategy=\"epoch\",\n",
        "    push_to_hub=False,\n",
        ")\n",
        "\n",
        "# Step 17: Initialize Seq2SeqTrainer\n",
        "trainer = Seq2SeqTrainer(\n",
        "    model=model,\n",
        "    args=training_args,\n",
        "    train_dataset=tokenized_datasets[\"train\"],\n",
        "    eval_dataset=tokenized_datasets[\"test\"],\n",
        "    tokenizer=tokenizer,\n",
        "    data_collator=data_collator,\n",
        "    compute_metrics=compute_metrics,\n",
        ")\n",
        "\n",
        "# Step 18: Train the model\n",
        "trainer.train()\n",
        "\n",
        "# Step 19: Save the final model and tokenizer locally\n",
        "trainer.save_model(\"./flan-t5-support-summarizer-final\")\n",
        "tokenizer.save_pretrained(\"./flan-t5-support-summarizer-final\")\n",
        "\n",
        "# Step 20: Evaluate the model on the test set\n",
        "results = trainer.evaluate(tokenized_datasets[\"test\"])\n",
        "print(\"Evaluation results:\", results)\n",
        "\n",
        "# Step 21: Generate predictions on the test set\n",
        "preds = trainer.predict(tokenized_datasets[\"test\"])\n",
        "decoded_preds = tokenizer.batch_decode(preds.predictions, skip_special_tokens=True)\n",
        "decoded_labels = tokenizer.batch_decode(\n",
        "    np.where(preds.label_ids != -100, preds.label_ids, tokenizer.pad_token_id),\n",
        "    skip_special_tokens=True\n",
        ")\n",
        "\n",
        "# Print some example summaries vs references\n",
        "for i in range(min(3, len(decoded_preds))):\n",
        "    print(f\"\\n=== Example {i+1} ===\")\n",
        "    print(\"Predicted summary:\", decoded_preds[i])\n",
        "    print(\"Reference summary:\", decoded_labels[i])\n",
        "\n",
        "# Step 22: Helper function to summarize new tickets\n",
        "def summarize_ticket(text):\n",
        "    device = torch.device(\"cuda\" if torch.cuda.is_available() else \"cpu\")\n",
        "    model.to(device)\n",
        "\n",
        "    inputs = tokenizer(text, return_tensors=\"pt\", max_length=max_input_length, truncation=True).to(device)\n",
        "    outputs = model.generate(**inputs, max_length=max_target_length, num_beams=4, early_stopping=True)\n",
        "    summary = tokenizer.decode(outputs[0].cpu(), skip_special_tokens=True)\n",
        "    return summary\n",
        "\n",
        "# Step 23: Test summarization on a new sample ticket\n",
        "sample_ticket = \"User reported: Printer not working and paper jams frequently in the tray.\"\n",
        "print(\"\\nSummary action items:\\n\", summarize_ticket(sample_ticket))\n"
      ],
      "metadata": {
        "colab": {
          "base_uri": "https://localhost:8080/",
          "height": 1000,
          "referenced_widgets": [
            "9a49b432ce5d4c1080ca74144d0f7471",
            "5aa9cd566b9f4f6f805b6ef0ccd7b77b",
            "f6cc391778d4434bb19770c6e64902cc",
            "dbbe5cbf44a1465eba8482a29e2d9009",
            "05155149f0eb47f8876941d5919226a9",
            "5528d65c10f8475d974a84d8dcef7700",
            "81d37177ad4e452c8fc143af2f0928fd",
            "869650d89a854751b051bfae843575f5",
            "f721c0364a8f4f6990016161b863c7f2",
            "6ad4bab043764184b0c0d8d37a9af308",
            "37e1d54906344ecea60f92d5042ccb44",
            "7d00e7cae5104fdfb41ab97399c42b7d",
            "35f1931465c143f194268792e6ed2566",
            "ff07269a125d47d7b3b7888b2ab933cd",
            "bb4abbc86ce54e3885e259de8f5e3795",
            "e5f05fd7b1914427b7b28671866f8ff8",
            "ab9d8aeaffeb4821bf256941e1212ca8",
            "241cdc002f3747b9ad20e135c8d0e5ca",
            "489d98323e99422a8e0848216dfab4f6",
            "5096494430584fb5b6d58dc518bf79b5",
            "c18a1f40f00941da942c7944e4ae9612",
            "e088ad7ca0b742c0982d485b08deb5c7"
          ]
        },
        "id": "htWv4UQXwbaD",
        "outputId": "d172550a-c79a-46f4-9ef8-56640dae6e2a"
      },
      "execution_count": 7,
      "outputs": [
        {
          "output_type": "stream",
          "name": "stdout",
          "text": [
            "Loaded 50 records\n",
            "DatasetDict({\n",
            "    train: Dataset({\n",
            "        features: ['prompt', 'completion'],\n",
            "        num_rows: 40\n",
            "    })\n",
            "    test: Dataset({\n",
            "        features: ['prompt', 'completion'],\n",
            "        num_rows: 10\n",
            "    })\n",
            "})\n",
            "DatasetDict({\n",
            "    train: Dataset({\n",
            "        features: ['prompt', 'completion'],\n",
            "        num_rows: 32\n",
            "    })\n",
            "    test: Dataset({\n",
            "        features: ['prompt', 'completion'],\n",
            "        num_rows: 8\n",
            "    })\n",
            "})\n"
          ]
        },
        {
          "output_type": "stream",
          "name": "stderr",
          "text": [
            "/usr/local/lib/python3.11/dist-packages/transformers/models/auto/tokenization_auto.py:902: FutureWarning: The `use_auth_token` argument is deprecated and will be removed in v5 of Transformers. Please use `token` instead.\n",
            "  warnings.warn(\n",
            "/usr/local/lib/python3.11/dist-packages/transformers/models/auto/auto_factory.py:476: FutureWarning: The `use_auth_token` argument is deprecated and will be removed in v5 of Transformers. Please use `token` instead.\n",
            "  warnings.warn(\n"
          ]
        },
        {
          "output_type": "display_data",
          "data": {
            "text/plain": [
              "Map:   0%|          | 0/32 [00:00<?, ? examples/s]"
            ],
            "application/vnd.jupyter.widget-view+json": {
              "version_major": 2,
              "version_minor": 0,
              "model_id": "9a49b432ce5d4c1080ca74144d0f7471"
            }
          },
          "metadata": {}
        },
        {
          "output_type": "stream",
          "name": "stderr",
          "text": [
            "/usr/local/lib/python3.11/dist-packages/transformers/tokenization_utils_base.py:3959: UserWarning: `as_target_tokenizer` is deprecated and will be removed in v5 of Transformers. You can tokenize your labels by using the argument `text_target` of the regular `__call__` method (either in the same call as your input texts if you use the same keyword arguments, or in a separate call.\n",
            "  warnings.warn(\n"
          ]
        },
        {
          "output_type": "display_data",
          "data": {
            "text/plain": [
              "Map:   0%|          | 0/8 [00:00<?, ? examples/s]"
            ],
            "application/vnd.jupyter.widget-view+json": {
              "version_major": 2,
              "version_minor": 0,
              "model_id": "7d00e7cae5104fdfb41ab97399c42b7d"
            }
          },
          "metadata": {}
        },
        {
          "output_type": "stream",
          "name": "stderr",
          "text": [
            "<ipython-input-7-fa9eda6d552e>:113: FutureWarning: `tokenizer` is deprecated and will be removed in version 5.0.0 for `Seq2SeqTrainer.__init__`. Use `processing_class` instead.\n",
            "  trainer = Seq2SeqTrainer(\n"
          ]
        },
        {
          "output_type": "display_data",
          "data": {
            "text/plain": [
              "<IPython.core.display.HTML object>"
            ],
            "text/html": [
              "\n",
              "    <div>\n",
              "      \n",
              "      <progress value='160' max='160' style='width:300px; height:20px; vertical-align: middle;'></progress>\n",
              "      [160/160 27:40, Epoch 20/20]\n",
              "    </div>\n",
              "    <table border=\"1\" class=\"dataframe\">\n",
              "  <thead>\n",
              " <tr style=\"text-align: left;\">\n",
              "      <th>Step</th>\n",
              "      <th>Training Loss</th>\n",
              "    </tr>\n",
              "  </thead>\n",
              "  <tbody>\n",
              "    <tr>\n",
              "      <td>20</td>\n",
              "      <td>3.701900</td>\n",
              "    </tr>\n",
              "    <tr>\n",
              "      <td>40</td>\n",
              "      <td>2.996200</td>\n",
              "    </tr>\n",
              "    <tr>\n",
              "      <td>60</td>\n",
              "      <td>2.578400</td>\n",
              "    </tr>\n",
              "    <tr>\n",
              "      <td>80</td>\n",
              "      <td>2.310600</td>\n",
              "    </tr>\n",
              "    <tr>\n",
              "      <td>100</td>\n",
              "      <td>2.043600</td>\n",
              "    </tr>\n",
              "    <tr>\n",
              "      <td>120</td>\n",
              "      <td>1.996600</td>\n",
              "    </tr>\n",
              "    <tr>\n",
              "      <td>140</td>\n",
              "      <td>1.876800</td>\n",
              "    </tr>\n",
              "    <tr>\n",
              "      <td>160</td>\n",
              "      <td>1.818400</td>\n",
              "    </tr>\n",
              "  </tbody>\n",
              "</table><p>"
            ]
          },
          "metadata": {}
        },
        {
          "output_type": "display_data",
          "data": {
            "text/plain": [
              "<IPython.core.display.HTML object>"
            ],
            "text/html": []
          },
          "metadata": {}
        },
        {
          "output_type": "stream",
          "name": "stdout",
          "text": [
            "Evaluation results: {'eval_loss': 1.4589407444000244, 'eval_rouge1_fmeasure': 0.23735119047619047, 'eval_runtime': 1.2262, 'eval_samples_per_second': 6.524, 'eval_steps_per_second': 1.631, 'epoch': 20.0}\n",
            "\n",
            "=== Example 1 ===\n",
            "Predicted summary: - Reset printer driver - Restart printer\n",
            "Reference summary: - Check printer connectivity - Reinstall printer drivers - Restart print spooler\n",
            "\n",
            "=== Example 2 ===\n",
            "Predicted summary: - Reset password - Reset password - Reset password\n",
            "Reference summary: - Reset user password - Verify email address - Enable 2FA\n",
            "\n",
            "=== Example 3 ===\n",
            "Predicted summary: - Restart Windows - Restart Mac OS - Restart Windows - Restart\n",
            "Reference summary: - Collect crash logs - Update system drivers - Reinstall OS\n",
            "\n",
            "Summary action items:\n",
            " - Restart printer - Restart printer - Restart printer\n"
          ]
        }
      ]
    },
    {
      "cell_type": "markdown",
      "source": [
        "# Result After Small Changes\n",
        "\n",
        "- Training Loss is lower for 20 epochs — model has learned better from training data.\n",
        "\n",
        "- Eval Loss is significantly lower for 20 epochs, meaning better generalization.\n",
        "\n",
        "- ROUGE-1 F1 is almost double for 20 epochs — a solid metric improvement, indicating better summary quality.\n",
        "\n",
        "- Predictions at 20 epochs, though repetitive sometimes (like repeated \"Reset password\"), still include relevant keywords closer to the reference summaries.\n",
        "\n",
        "- At 10 epochs, predictions look more generic, incomplete, or unrelated.\n",
        "\n"
      ],
      "metadata": {
        "id": "SRrOVfXDAg2v"
      }
    },
    {
      "cell_type": "markdown",
      "source": [
        "#Further Improvements -\n",
        "\n",
        "- Try early stopping to avoid overfitting but still allow the model to learn well.\n",
        "\n",
        "- Increase training data size if possible (50 records is very small).\n",
        "\n",
        "- Experiment with different decoding methods at inference: beam search, sampling, or length penalties.\n",
        "\n",
        "- Use a learning rate scheduler or lower learning rate for fine-tuning.\n",
        "\n",
        "- Try data augmentation or paraphrasing to increase training examples.\n",
        "\n",
        "- Consider better prompt engineering or task framing if model struggles to generalize."
      ],
      "metadata": {
        "id": "fdx-58V1AoPP"
      }
    },
    {
      "cell_type": "code",
      "source": [
        "# Note - We need to use api key that can be create using link comes in result after running the model."
      ],
      "metadata": {
        "id": "tmnRhgwgAUhR"
      },
      "execution_count": 8,
      "outputs": []
    }
  ]
}